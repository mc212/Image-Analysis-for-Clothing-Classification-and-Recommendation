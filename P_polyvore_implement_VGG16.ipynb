{
  "nbformat": 4,
  "nbformat_minor": 0,
  "metadata": {
    "colab": {
      "name": "P_polyvore_implement_VGG16.ipynb",
      "provenance": [],
      "collapsed_sections": [
        "SgjxsMGZoN4P",
        "Xf8XXDt_-GYZ"
      ],
      "toc_visible": true
    },
    "kernelspec": {
      "name": "python3",
      "display_name": "Python 3"
    },
    "language_info": {
      "name": "python"
    }
  },
  "cells": [
    {
      "cell_type": "code",
      "metadata": {
        "colab": {
          "base_uri": "https://localhost:8080/"
        },
        "id": "LyizCYkY-e_p",
        "outputId": "4ff90805-3b16-4010-84d7-14771e51734c"
      },
      "source": [
        "from google.colab import drive\n",
        "import os\n",
        "import pandas as pd\n",
        "import numpy as np\n",
        "from tqdm import tqdm\n",
        "\n",
        "drive.mount('/content/drive')\n",
        "os.chdir('/content/drive/My Drive/Practicum- ChauDao')"
      ],
      "execution_count": null,
      "outputs": [
        {
          "output_type": "stream",
          "text": [
            "Mounted at /content/drive\n"
          ],
          "name": "stdout"
        }
      ]
    },
    {
      "cell_type": "code",
      "metadata": {
        "id": "kmBoBv7ku2nl"
      },
      "source": [
        "df_reg = pd.read_csv('./trained_models/Output/TO_CHAU/polyvore_vgg16.csv')\n",
        "#top = pd.read_pickle((\"./Polyvore/cat_v1/top_categories.pkl\"))\n",
        "#bottom = pd.read_pickle((\"./Polyvore/cat_v1/bottom_categories.pkl\"))\n",
        "#df = pd.read_pickle(\"./Polyvore/cat_v1/df_full.pkl\")\n",
        "\n",
        "#top = pd.read_pickle((\"./Polyvore/cat_v2/top_categories.pkl\"))\n",
        "#bottom = pd.read_pickle((\"./Polyvore/cat_v2/bottom_categories.pkl\"))\n",
        "#df = pd.read_pickle(\"./Polyvore/cat_v2/df_full.pkl\")\n",
        "\n",
        "#for the first run, all these files will be created in the following steps"
      ],
      "execution_count": null,
      "outputs": []
    },
    {
      "cell_type": "code",
      "metadata": {
        "id": "OLrCktVzRYwP"
      },
      "source": [
        "top"
      ],
      "execution_count": null,
      "outputs": []
    },
    {
      "cell_type": "markdown",
      "metadata": {
        "id": "HYD-XsZ9vnhV"
      },
      "source": [
        "## Prepare DFs "
      ]
    },
    {
      "cell_type": "markdown",
      "metadata": {
        "id": "4f1JQTWhWBOx"
      },
      "source": [
        "###df_reg\n",
        "mapping set_id with categories:\n",
        "set_id, top (list), bottom (list)\n",
        "set_id, top_id, bottom_id"
      ]
    },
    {
      "cell_type": "markdown",
      "metadata": {
        "id": "uhBYj3kmQ3H9"
      },
      "source": [
        "#### top"
      ]
    },
    {
      "cell_type": "code",
      "metadata": {
        "id": "cokELwd7MgaZ"
      },
      "source": [
        "#cat_v1\n",
        "#x = df_reg.loc[df_reg['cate1_name'] == 'upper-body', ('id','cate2_name','attr26_1_name','attr26_3_name','attr26_5_name','attr26_6_name')]\n",
        "#dont use attribute columns that only have 1 value\n",
        "#x['atts'] = x[['cate2_name','attr26_1_name','attr26_3_name','attr26_5_name','attr26_6_name']].values.tolist()\n",
        "\n",
        "#cat_v2\n",
        "x = df_reg.loc[df_reg['cate1_name'] == 'upper-body', ('id','cate2_name','texture_name','sleeve_part_name','shape_name','neckline_part_name','fabric_name','style_name')]\n",
        "#dont use attribute columns that only have 1 value\n",
        "x['atts'] = x[['cate2_name','texture_name','sleeve_part_name','shape_name','neckline_part_name','fabric_name','style_name']].values.tolist()"
      ],
      "execution_count": null,
      "outputs": []
    },
    {
      "cell_type": "code",
      "metadata": {
        "id": "z-rufmyEQFaY"
      },
      "source": [
        "data = []\n",
        "x1 = pd.DataFrame(columns=['id', 'cat_name'])\n",
        "for id in x.id.unique():\n",
        "  attributes = x[(x.id == id)].atts.values[0]\n",
        "  for i in range(0,len(attributes)):\n",
        "    att = attributes[i]\n",
        "    data.append({'id': id,'cat_name':att})\n",
        "x1 = x1.append(data, ignore_index = True)"
      ],
      "execution_count": null,
      "outputs": []
    },
    {
      "cell_type": "markdown",
      "metadata": {
        "id": "GyZOUtWkQe3z"
      },
      "source": [
        "####bottom"
      ]
    },
    {
      "cell_type": "code",
      "metadata": {
        "id": "6pcXzG5qQji3"
      },
      "source": [
        "y = df_reg.loc[df_reg['cate1_name'] != 'upper-body', ('id','cate2_name','texture_name','sleeve_part_name','shape_name','neckline_part_name','fabric_name','style_name')]\n",
        "#dont use attribute columns that only have 1 value\n",
        "y['atts'] = y[['cate2_name','texture_name','sleeve_part_name','shape_name','neckline_part_name','fabric_name','style_name']].values.tolist()\n",
        "\n",
        "# as there are more than 1 level of clothing item attributes, I decide to flatten the levels into 1 level only so that the model can be flexible with different ways of annotation."
      ],
      "execution_count": null,
      "outputs": []
    },
    {
      "cell_type": "code",
      "metadata": {
        "id": "G2po9JEdQFGj"
      },
      "source": [
        "data = []\n",
        "y1 = pd.DataFrame(columns=['id', 'cat_name'])\n",
        "for id in y.id.unique():\n",
        "  attributes = y[(y.id == id)].atts.values[0]\n",
        "  for i in range(0,len(attributes)):\n",
        "    att = attributes[i]\n",
        "    data.append({'id': id,'cat_name':att})\n",
        "y1 = y1.append(data, ignore_index = True)"
      ],
      "execution_count": null,
      "outputs": []
    },
    {
      "cell_type": "code",
      "metadata": {
        "colab": {
          "base_uri": "https://localhost:8080/",
          "height": 80
        },
        "id": "Y8t0MUa9aArt",
        "outputId": "5866054f-5226-4878-833d-360bc20564d4"
      },
      "source": [
        "y1.head(1)\n",
        "#in df  section, the column name 'cat_name' had been change to 'bottom'. Similar to x1.cat_name -> top"
      ],
      "execution_count": null,
      "outputs": [
        {
          "output_type": "execute_result",
          "data": {
            "text/html": [
              "<div>\n",
              "<style scoped>\n",
              "    .dataframe tbody tr th:only-of-type {\n",
              "        vertical-align: middle;\n",
              "    }\n",
              "\n",
              "    .dataframe tbody tr th {\n",
              "        vertical-align: top;\n",
              "    }\n",
              "\n",
              "    .dataframe thead th {\n",
              "        text-align: right;\n",
              "    }\n",
              "</style>\n",
              "<table border=\"1\" class=\"dataframe\">\n",
              "  <thead>\n",
              "    <tr style=\"text-align: right;\">\n",
              "      <th></th>\n",
              "      <th>id</th>\n",
              "      <th>cat_name</th>\n",
              "    </tr>\n",
              "  </thead>\n",
              "  <tbody>\n",
              "    <tr>\n",
              "      <th>0</th>\n",
              "      <td>214181831/3.jpg</td>\n",
              "      <td>Shorts</td>\n",
              "    </tr>\n",
              "  </tbody>\n",
              "</table>\n",
              "</div>"
            ],
            "text/plain": [
              "                id cat_name\n",
              "0  214181831/3.jpg   Shorts"
            ]
          },
          "metadata": {
            "tags": []
          },
          "execution_count": 173
        }
      ]
    },
    {
      "cell_type": "code",
      "metadata": {
        "id": "_taP0-nYO6w5"
      },
      "source": [
        "import numpy as np"
      ],
      "execution_count": null,
      "outputs": []
    },
    {
      "cell_type": "code",
      "metadata": {
        "id": "t6TMbzfyO4kB"
      },
      "source": [
        "unique_top = x1.cat_name.unique()\n",
        "top_ids = dict(zip(unique_top, np.arange(unique_top.shape[0], dtype=np.int32)))\n",
        "\n",
        "unique_bottom = y1.cat_name.unique()\n",
        "bottom_ids = dict(zip(unique_bottom, np.arange(unique_bottom.shape[0], dtype=np.int32)))"
      ],
      "execution_count": null,
      "outputs": []
    },
    {
      "cell_type": "code",
      "metadata": {
        "id": "01a6VoxqPaDD"
      },
      "source": [
        "bottom = pd.DataFrame(bottom_ids.items(), columns=['old', 'new'])\n",
        "top = pd.DataFrame(top_ids.items(), columns=['old', 'new'])"
      ],
      "execution_count": null,
      "outputs": []
    },
    {
      "cell_type": "code",
      "metadata": {
        "colab": {
          "base_uri": "https://localhost:8080/",
          "height": 949
        },
        "id": "1LA-596jRz2S",
        "outputId": "37234791-924a-49aa-ce43-b7aa2be45d83"
      },
      "source": [
        "bottom"
      ],
      "execution_count": null,
      "outputs": [
        {
          "output_type": "execute_result",
          "data": {
            "text/html": [
              "<div>\n",
              "<style scoped>\n",
              "    .dataframe tbody tr th:only-of-type {\n",
              "        vertical-align: middle;\n",
              "    }\n",
              "\n",
              "    .dataframe tbody tr th {\n",
              "        vertical-align: top;\n",
              "    }\n",
              "\n",
              "    .dataframe thead th {\n",
              "        text-align: right;\n",
              "    }\n",
              "</style>\n",
              "<table border=\"1\" class=\"dataframe\">\n",
              "  <thead>\n",
              "    <tr style=\"text-align: right;\">\n",
              "      <th></th>\n",
              "      <th>old</th>\n",
              "      <th>new</th>\n",
              "    </tr>\n",
              "  </thead>\n",
              "  <tbody>\n",
              "    <tr>\n",
              "      <th>0</th>\n",
              "      <td>Shorts</td>\n",
              "      <td>0</td>\n",
              "    </tr>\n",
              "    <tr>\n",
              "      <th>1</th>\n",
              "      <td>graphic</td>\n",
              "      <td>1</td>\n",
              "    </tr>\n",
              "    <tr>\n",
              "      <th>2</th>\n",
              "      <td>sleeveless</td>\n",
              "      <td>2</td>\n",
              "    </tr>\n",
              "    <tr>\n",
              "      <th>3</th>\n",
              "      <td>no_dress</td>\n",
              "      <td>3</td>\n",
              "    </tr>\n",
              "    <tr>\n",
              "      <th>4</th>\n",
              "      <td>no_neckline</td>\n",
              "      <td>4</td>\n",
              "    </tr>\n",
              "    <tr>\n",
              "      <th>5</th>\n",
              "      <td>cotton</td>\n",
              "      <td>5</td>\n",
              "    </tr>\n",
              "    <tr>\n",
              "      <th>6</th>\n",
              "      <td>conventional</td>\n",
              "      <td>6</td>\n",
              "    </tr>\n",
              "    <tr>\n",
              "      <th>7</th>\n",
              "      <td>solid</td>\n",
              "      <td>7</td>\n",
              "    </tr>\n",
              "    <tr>\n",
              "      <th>8</th>\n",
              "      <td>tight</td>\n",
              "      <td>8</td>\n",
              "    </tr>\n",
              "    <tr>\n",
              "      <th>9</th>\n",
              "      <td>denim</td>\n",
              "      <td>9</td>\n",
              "    </tr>\n",
              "    <tr>\n",
              "      <th>10</th>\n",
              "      <td>Blazer</td>\n",
              "      <td>10</td>\n",
              "    </tr>\n",
              "    <tr>\n",
              "      <th>11</th>\n",
              "      <td>long_sleeve</td>\n",
              "      <td>11</td>\n",
              "    </tr>\n",
              "    <tr>\n",
              "      <th>12</th>\n",
              "      <td>crew_neckline</td>\n",
              "      <td>12</td>\n",
              "    </tr>\n",
              "    <tr>\n",
              "      <th>13</th>\n",
              "      <td>floral</td>\n",
              "      <td>13</td>\n",
              "    </tr>\n",
              "    <tr>\n",
              "      <th>14</th>\n",
              "      <td>mini_length</td>\n",
              "      <td>14</td>\n",
              "    </tr>\n",
              "    <tr>\n",
              "      <th>15</th>\n",
              "      <td>striped</td>\n",
              "      <td>15</td>\n",
              "    </tr>\n",
              "    <tr>\n",
              "      <th>16</th>\n",
              "      <td>v_neckline</td>\n",
              "      <td>16</td>\n",
              "    </tr>\n",
              "    <tr>\n",
              "      <th>17</th>\n",
              "      <td>chiffon</td>\n",
              "      <td>17</td>\n",
              "    </tr>\n",
              "    <tr>\n",
              "      <th>18</th>\n",
              "      <td>embroidered</td>\n",
              "      <td>18</td>\n",
              "    </tr>\n",
              "    <tr>\n",
              "      <th>19</th>\n",
              "      <td>maxi_length</td>\n",
              "      <td>19</td>\n",
              "    </tr>\n",
              "    <tr>\n",
              "      <th>20</th>\n",
              "      <td>short_sleeve</td>\n",
              "      <td>20</td>\n",
              "    </tr>\n",
              "    <tr>\n",
              "      <th>21</th>\n",
              "      <td>knit</td>\n",
              "      <td>21</td>\n",
              "    </tr>\n",
              "    <tr>\n",
              "      <th>22</th>\n",
              "      <td>pleated</td>\n",
              "      <td>22</td>\n",
              "    </tr>\n",
              "    <tr>\n",
              "      <th>23</th>\n",
              "      <td>lattice</td>\n",
              "      <td>23</td>\n",
              "    </tr>\n",
              "    <tr>\n",
              "      <th>24</th>\n",
              "      <td>Skirt</td>\n",
              "      <td>24</td>\n",
              "    </tr>\n",
              "    <tr>\n",
              "      <th>25</th>\n",
              "      <td>Sweater</td>\n",
              "      <td>25</td>\n",
              "    </tr>\n",
              "    <tr>\n",
              "      <th>26</th>\n",
              "      <td>Leggings</td>\n",
              "      <td>26</td>\n",
              "    </tr>\n",
              "    <tr>\n",
              "      <th>27</th>\n",
              "      <td>Cardigan</td>\n",
              "      <td>27</td>\n",
              "    </tr>\n",
              "    <tr>\n",
              "      <th>28</th>\n",
              "      <td>leather</td>\n",
              "      <td>28</td>\n",
              "    </tr>\n",
              "  </tbody>\n",
              "</table>\n",
              "</div>"
            ],
            "text/plain": [
              "              old  new\n",
              "0          Shorts    0\n",
              "1         graphic    1\n",
              "2      sleeveless    2\n",
              "3        no_dress    3\n",
              "4     no_neckline    4\n",
              "5          cotton    5\n",
              "6    conventional    6\n",
              "7           solid    7\n",
              "8           tight    8\n",
              "9           denim    9\n",
              "10         Blazer   10\n",
              "11    long_sleeve   11\n",
              "12  crew_neckline   12\n",
              "13         floral   13\n",
              "14    mini_length   14\n",
              "15        striped   15\n",
              "16     v_neckline   16\n",
              "17        chiffon   17\n",
              "18    embroidered   18\n",
              "19    maxi_length   19\n",
              "20   short_sleeve   20\n",
              "21           knit   21\n",
              "22        pleated   22\n",
              "23        lattice   23\n",
              "24          Skirt   24\n",
              "25        Sweater   25\n",
              "26       Leggings   26\n",
              "27       Cardigan   27\n",
              "28        leather   28"
            ]
          },
          "metadata": {
            "tags": []
          },
          "execution_count": 176
        }
      ]
    },
    {
      "cell_type": "code",
      "metadata": {
        "id": "Ttw4KKiwPlGh"
      },
      "source": [
        "top.to_pickle(\"./Polyvore/cat_v2/vgg16/top_categories.pkl\")\n",
        "bottom.to_pickle(\"./Polyvore/cat_v2/vgg16/bottom_categories.pkl\")"
      ],
      "execution_count": null,
      "outputs": []
    },
    {
      "cell_type": "markdown",
      "metadata": {
        "id": "DR9tCITRQmEO"
      },
      "source": [
        "####df"
      ]
    },
    {
      "cell_type": "code",
      "metadata": {
        "id": "ED9DwRySP2aO"
      },
      "source": [
        "x1['top_id'] = x1.cat_name.apply(lambda u: top_ids[u])\n",
        "y1['bottom_id'] = y1.cat_name.apply(lambda m: bottom_ids[m])"
      ],
      "execution_count": null,
      "outputs": []
    },
    {
      "cell_type": "code",
      "metadata": {
        "colab": {
          "base_uri": "https://localhost:8080/",
          "height": 204
        },
        "id": "0XtftlbxRO15",
        "outputId": "f552bd60-8cae-41b7-8f6d-cb89827c5a86"
      },
      "source": [
        "x1.head(5)"
      ],
      "execution_count": null,
      "outputs": [
        {
          "output_type": "execute_result",
          "data": {
            "text/html": [
              "<div>\n",
              "<style scoped>\n",
              "    .dataframe tbody tr th:only-of-type {\n",
              "        vertical-align: middle;\n",
              "    }\n",
              "\n",
              "    .dataframe tbody tr th {\n",
              "        vertical-align: top;\n",
              "    }\n",
              "\n",
              "    .dataframe thead th {\n",
              "        text-align: right;\n",
              "    }\n",
              "</style>\n",
              "<table border=\"1\" class=\"dataframe\">\n",
              "  <thead>\n",
              "    <tr style=\"text-align: right;\">\n",
              "      <th></th>\n",
              "      <th>id</th>\n",
              "      <th>cat_name</th>\n",
              "      <th>top_id</th>\n",
              "    </tr>\n",
              "  </thead>\n",
              "  <tbody>\n",
              "    <tr>\n",
              "      <th>0</th>\n",
              "      <td>214181831/1.jpg</td>\n",
              "      <td>Shorts</td>\n",
              "      <td>0</td>\n",
              "    </tr>\n",
              "    <tr>\n",
              "      <th>1</th>\n",
              "      <td>214181831/1.jpg</td>\n",
              "      <td>solid</td>\n",
              "      <td>1</td>\n",
              "    </tr>\n",
              "    <tr>\n",
              "      <th>2</th>\n",
              "      <td>214181831/1.jpg</td>\n",
              "      <td>long_sleeve</td>\n",
              "      <td>2</td>\n",
              "    </tr>\n",
              "    <tr>\n",
              "      <th>3</th>\n",
              "      <td>214181831/1.jpg</td>\n",
              "      <td>no_dress</td>\n",
              "      <td>3</td>\n",
              "    </tr>\n",
              "    <tr>\n",
              "      <th>4</th>\n",
              "      <td>214181831/1.jpg</td>\n",
              "      <td>crew_neckline</td>\n",
              "      <td>4</td>\n",
              "    </tr>\n",
              "  </tbody>\n",
              "</table>\n",
              "</div>"
            ],
            "text/plain": [
              "                id       cat_name  top_id\n",
              "0  214181831/1.jpg         Shorts       0\n",
              "1  214181831/1.jpg          solid       1\n",
              "2  214181831/1.jpg    long_sleeve       2\n",
              "3  214181831/1.jpg       no_dress       3\n",
              "4  214181831/1.jpg  crew_neckline       4"
            ]
          },
          "metadata": {
            "tags": []
          },
          "execution_count": 179
        }
      ]
    },
    {
      "cell_type": "code",
      "metadata": {
        "id": "_BgJrrINR2bR"
      },
      "source": [
        "y1['set_id'] = y1['id'].str[:9]\n",
        "x1['set_id'] = x1['id'].str[:9]"
      ],
      "execution_count": null,
      "outputs": []
    },
    {
      "cell_type": "code",
      "metadata": {
        "id": "hiIYOfwgTVdI"
      },
      "source": [
        "x1.rename(columns = {'cat_name':'top'}, inplace = True)\n",
        "y1.rename(columns = {'cat_name':'bottom'}, inplace = True)"
      ],
      "execution_count": null,
      "outputs": []
    },
    {
      "cell_type": "code",
      "metadata": {
        "id": "ipd2yt1mUyJr"
      },
      "source": [
        "from tqdm import tqdm"
      ],
      "execution_count": null,
      "outputs": []
    },
    {
      "cell_type": "code",
      "metadata": {
        "colab": {
          "base_uri": "https://localhost:8080/"
        },
        "id": "qvxxFOiBUwvh",
        "outputId": "b38ec065-5e81-45d5-9559-ea93f73cae3e"
      },
      "source": [
        "data = []\n",
        "x2 = pd.DataFrame(columns = ['set_id','top'])\n",
        "for set_id in tqdm(x1.set_id.unique()):\n",
        "  top = x1[(x1.set_id == set_id)].top_id.unique()\n",
        "  data.append({'set_id':set_id, 'top':top})\n",
        "\n",
        "x2 = x2.append(data,ignore_index = True)"
      ],
      "execution_count": null,
      "outputs": [
        {
          "output_type": "stream",
          "text": [
            "100%|██████████| 12433/12433 [01:58<00:00, 104.64it/s]\n"
          ],
          "name": "stderr"
        }
      ]
    },
    {
      "cell_type": "code",
      "metadata": {
        "id": "CgDBUPovVWqH"
      },
      "source": [
        "x2"
      ],
      "execution_count": null,
      "outputs": []
    },
    {
      "cell_type": "code",
      "metadata": {
        "id": "kG-Y0QNCXwJA",
        "colab": {
          "base_uri": "https://localhost:8080/"
        },
        "outputId": "a0bae5bc-269d-40e1-deab-39e2b91dbbef"
      },
      "source": [
        "data = []\n",
        "y2 = pd.DataFrame(columns = ['set_id','bottom'])\n",
        "for set_id in tqdm(y1.set_id.unique()):\n",
        "  bottom = y1[(y1.set_id == set_id)].bottom_id.unique()\n",
        "  data.append({'set_id':set_id, 'bottom':bottom})\n",
        "\n",
        "y2 = y2.append(data,ignore_index = True)\n"
      ],
      "execution_count": null,
      "outputs": [
        {
          "output_type": "stream",
          "text": [
            "100%|██████████| 10510/10510 [01:00<00:00, 172.84it/s]\n"
          ],
          "name": "stderr"
        }
      ]
    },
    {
      "cell_type": "code",
      "metadata": {
        "id": "tk3lgtTzYf_K",
        "colab": {
          "base_uri": "https://localhost:8080/",
          "height": 419
        },
        "outputId": "1fa4ddc4-7545-4d03-87a1-5b3cff315458"
      },
      "source": [
        "y2"
      ],
      "execution_count": null,
      "outputs": [
        {
          "output_type": "execute_result",
          "data": {
            "text/html": [
              "<div>\n",
              "<style scoped>\n",
              "    .dataframe tbody tr th:only-of-type {\n",
              "        vertical-align: middle;\n",
              "    }\n",
              "\n",
              "    .dataframe tbody tr th {\n",
              "        vertical-align: top;\n",
              "    }\n",
              "\n",
              "    .dataframe thead th {\n",
              "        text-align: right;\n",
              "    }\n",
              "</style>\n",
              "<table border=\"1\" class=\"dataframe\">\n",
              "  <thead>\n",
              "    <tr style=\"text-align: right;\">\n",
              "      <th></th>\n",
              "      <th>set_id</th>\n",
              "      <th>bottom</th>\n",
              "    </tr>\n",
              "  </thead>\n",
              "  <tbody>\n",
              "    <tr>\n",
              "      <th>0</th>\n",
              "      <td>214181831</td>\n",
              "      <td>[0, 1, 2, 3, 4, 5, 6]</td>\n",
              "    </tr>\n",
              "    <tr>\n",
              "      <th>1</th>\n",
              "      <td>120161271</td>\n",
              "      <td>[0, 7, 2, 3, 4, 5, 8]</td>\n",
              "    </tr>\n",
              "    <tr>\n",
              "      <th>2</th>\n",
              "      <td>143656996</td>\n",
              "      <td>[0, 7, 2, 3, 4, 5, 8]</td>\n",
              "    </tr>\n",
              "    <tr>\n",
              "      <th>3</th>\n",
              "      <td>186627934</td>\n",
              "      <td>[0, 7, 2, 3, 4, 5, 8]</td>\n",
              "    </tr>\n",
              "    <tr>\n",
              "      <th>4</th>\n",
              "      <td>206969379</td>\n",
              "      <td>[0, 1, 2, 3, 4, 5, 6]</td>\n",
              "    </tr>\n",
              "    <tr>\n",
              "      <th>...</th>\n",
              "      <td>...</td>\n",
              "      <td>...</td>\n",
              "    </tr>\n",
              "    <tr>\n",
              "      <th>10505</th>\n",
              "      <td>100937795</td>\n",
              "      <td>[0, 7, 2, 3, 4, 9, 6]</td>\n",
              "    </tr>\n",
              "    <tr>\n",
              "      <th>10506</th>\n",
              "      <td>213533318</td>\n",
              "      <td>[0, 7, 2, 3, 4, 5, 6]</td>\n",
              "    </tr>\n",
              "    <tr>\n",
              "      <th>10507</th>\n",
              "      <td>216801059</td>\n",
              "      <td>[0, 7, 2, 3, 4, 5, 6]</td>\n",
              "    </tr>\n",
              "    <tr>\n",
              "      <th>10508</th>\n",
              "      <td>190488700</td>\n",
              "      <td>[0, 7, 2, 3, 4, 5, 6]</td>\n",
              "    </tr>\n",
              "    <tr>\n",
              "      <th>10509</th>\n",
              "      <td>211686294</td>\n",
              "      <td>[0, 18, 11, 14, 4, 17, 6]</td>\n",
              "    </tr>\n",
              "  </tbody>\n",
              "</table>\n",
              "<p>10510 rows × 2 columns</p>\n",
              "</div>"
            ],
            "text/plain": [
              "          set_id                     bottom\n",
              "0      214181831      [0, 1, 2, 3, 4, 5, 6]\n",
              "1      120161271      [0, 7, 2, 3, 4, 5, 8]\n",
              "2      143656996      [0, 7, 2, 3, 4, 5, 8]\n",
              "3      186627934      [0, 7, 2, 3, 4, 5, 8]\n",
              "4      206969379      [0, 1, 2, 3, 4, 5, 6]\n",
              "...          ...                        ...\n",
              "10505  100937795      [0, 7, 2, 3, 4, 9, 6]\n",
              "10506  213533318      [0, 7, 2, 3, 4, 5, 6]\n",
              "10507  216801059      [0, 7, 2, 3, 4, 5, 6]\n",
              "10508  190488700      [0, 7, 2, 3, 4, 5, 6]\n",
              "10509  211686294  [0, 18, 11, 14, 4, 17, 6]\n",
              "\n",
              "[10510 rows x 2 columns]"
            ]
          },
          "metadata": {
            "tags": []
          },
          "execution_count": 184
        }
      ]
    },
    {
      "cell_type": "code",
      "metadata": {
        "id": "9yefZmQAYYuJ"
      },
      "source": [
        "#join 2 df\n",
        "df = pd.merge(x2,y2,on='set_id')"
      ],
      "execution_count": null,
      "outputs": []
    },
    {
      "cell_type": "code",
      "metadata": {
        "id": "dbgJJPJKZIVq",
        "colab": {
          "base_uri": "https://localhost:8080/",
          "height": 419
        },
        "outputId": "92360f39-b422-414d-b716-09444ff653ba"
      },
      "source": [
        "df"
      ],
      "execution_count": null,
      "outputs": [
        {
          "output_type": "execute_result",
          "data": {
            "text/html": [
              "<div>\n",
              "<style scoped>\n",
              "    .dataframe tbody tr th:only-of-type {\n",
              "        vertical-align: middle;\n",
              "    }\n",
              "\n",
              "    .dataframe tbody tr th {\n",
              "        vertical-align: top;\n",
              "    }\n",
              "\n",
              "    .dataframe thead th {\n",
              "        text-align: right;\n",
              "    }\n",
              "</style>\n",
              "<table border=\"1\" class=\"dataframe\">\n",
              "  <thead>\n",
              "    <tr style=\"text-align: right;\">\n",
              "      <th></th>\n",
              "      <th>set_id</th>\n",
              "      <th>top</th>\n",
              "      <th>bottom</th>\n",
              "    </tr>\n",
              "  </thead>\n",
              "  <tbody>\n",
              "    <tr>\n",
              "      <th>0</th>\n",
              "      <td>214181831</td>\n",
              "      <td>[0, 1, 2, 3, 4, 5, 6, 7, 8, 9]</td>\n",
              "      <td>[0, 1, 2, 3, 4, 5, 6]</td>\n",
              "    </tr>\n",
              "    <tr>\n",
              "      <th>1</th>\n",
              "      <td>120161271</td>\n",
              "      <td>[0, 7, 10, 3, 4, 5, 6]</td>\n",
              "      <td>[0, 7, 2, 3, 4, 5, 8]</td>\n",
              "    </tr>\n",
              "    <tr>\n",
              "      <th>2</th>\n",
              "      <td>143656996</td>\n",
              "      <td>[0, 1, 11, 3, 12, 5, 6, 2, 4]</td>\n",
              "      <td>[0, 7, 2, 3, 4, 5, 8]</td>\n",
              "    </tr>\n",
              "    <tr>\n",
              "      <th>3</th>\n",
              "      <td>186627934</td>\n",
              "      <td>[0, 1, 2, 3, 4, 5, 6, 7, 11]</td>\n",
              "      <td>[0, 7, 2, 3, 4, 5, 8]</td>\n",
              "    </tr>\n",
              "    <tr>\n",
              "      <th>4</th>\n",
              "      <td>206969379</td>\n",
              "      <td>[0, 1, 11, 3, 12, 5, 6]</td>\n",
              "      <td>[0, 1, 2, 3, 4, 5, 6]</td>\n",
              "    </tr>\n",
              "    <tr>\n",
              "      <th>...</th>\n",
              "      <td>...</td>\n",
              "      <td>...</td>\n",
              "      <td>...</td>\n",
              "    </tr>\n",
              "    <tr>\n",
              "      <th>10203</th>\n",
              "      <td>100937795</td>\n",
              "      <td>[0, 1, 2, 3, 4, 5, 6, 7, 11]</td>\n",
              "      <td>[0, 7, 2, 3, 4, 9, 6]</td>\n",
              "    </tr>\n",
              "    <tr>\n",
              "      <th>10204</th>\n",
              "      <td>213533318</td>\n",
              "      <td>[0, 14, 2, 3, 4, 5, 6, 1]</td>\n",
              "      <td>[0, 7, 2, 3, 4, 5, 6]</td>\n",
              "    </tr>\n",
              "    <tr>\n",
              "      <th>10205</th>\n",
              "      <td>216801059</td>\n",
              "      <td>[0, 1, 11, 3, 12, 5, 6]</td>\n",
              "      <td>[0, 7, 2, 3, 4, 5, 6]</td>\n",
              "    </tr>\n",
              "    <tr>\n",
              "      <th>10206</th>\n",
              "      <td>190488700</td>\n",
              "      <td>[0, 7, 2, 3, 4, 5, 6, 19]</td>\n",
              "      <td>[0, 7, 2, 3, 4, 5, 6]</td>\n",
              "    </tr>\n",
              "    <tr>\n",
              "      <th>10207</th>\n",
              "      <td>211686294</td>\n",
              "      <td>[0, 1, 2, 3, 13, 5, 6]</td>\n",
              "      <td>[0, 18, 11, 14, 4, 17, 6]</td>\n",
              "    </tr>\n",
              "  </tbody>\n",
              "</table>\n",
              "<p>10208 rows × 3 columns</p>\n",
              "</div>"
            ],
            "text/plain": [
              "          set_id                             top                     bottom\n",
              "0      214181831  [0, 1, 2, 3, 4, 5, 6, 7, 8, 9]      [0, 1, 2, 3, 4, 5, 6]\n",
              "1      120161271          [0, 7, 10, 3, 4, 5, 6]      [0, 7, 2, 3, 4, 5, 8]\n",
              "2      143656996   [0, 1, 11, 3, 12, 5, 6, 2, 4]      [0, 7, 2, 3, 4, 5, 8]\n",
              "3      186627934    [0, 1, 2, 3, 4, 5, 6, 7, 11]      [0, 7, 2, 3, 4, 5, 8]\n",
              "4      206969379         [0, 1, 11, 3, 12, 5, 6]      [0, 1, 2, 3, 4, 5, 6]\n",
              "...          ...                             ...                        ...\n",
              "10203  100937795    [0, 1, 2, 3, 4, 5, 6, 7, 11]      [0, 7, 2, 3, 4, 9, 6]\n",
              "10204  213533318       [0, 14, 2, 3, 4, 5, 6, 1]      [0, 7, 2, 3, 4, 5, 6]\n",
              "10205  216801059         [0, 1, 11, 3, 12, 5, 6]      [0, 7, 2, 3, 4, 5, 6]\n",
              "10206  190488700       [0, 7, 2, 3, 4, 5, 6, 19]      [0, 7, 2, 3, 4, 5, 6]\n",
              "10207  211686294          [0, 1, 2, 3, 13, 5, 6]  [0, 18, 11, 14, 4, 17, 6]\n",
              "\n",
              "[10208 rows x 3 columns]"
            ]
          },
          "metadata": {
            "tags": []
          },
          "execution_count": 186
        }
      ]
    },
    {
      "cell_type": "code",
      "metadata": {
        "id": "CIlWttFSZUmj"
      },
      "source": [
        "#df.to_pickle(\"./Polyvore/cat_v1/df_full.pkl\")\n",
        "#df.to_pickle(\"./Polyvore/cat_v2/inceptionv3_v1/df_full.pkl\")\n",
        "\n",
        "df.to_pickle(\"./Polyvore/cat_v2/vgg16/df_full.pkl\")"
      ],
      "execution_count": null,
      "outputs": []
    },
    {
      "cell_type": "code",
      "metadata": {
        "id": "h5oNuz_NF1mz"
      },
      "source": [
        "#Notes: remember to check the number of set_id in df_full"
      ],
      "execution_count": null,
      "outputs": []
    },
    {
      "cell_type": "markdown",
      "metadata": {
        "id": "otE9WHrXd5bA"
      },
      "source": [
        "### check number of set_id dont have top/ bottom"
      ]
    },
    {
      "cell_type": "code",
      "metadata": {
        "id": "4usbNzot60L6"
      },
      "source": [
        "#df=pd.read_pickle(\"./Polyvore/cat_v1/df_full.pkl\")"
      ],
      "execution_count": null,
      "outputs": []
    },
    {
      "cell_type": "code",
      "metadata": {
        "id": "l_6smhuDbyo2",
        "colab": {
          "base_uri": "https://localhost:8080/"
        },
        "outputId": "e7bbea6e-1cf0-4c4f-c3e9-adb418a70a50"
      },
      "source": [
        "num_no_top = 0\n",
        "num_no_bt = 0\n",
        "for set_id in tqdm(df.set_id.unique()):\n",
        "  t = df[(df.set_id == set_id)].top.values[0]\n",
        "  len_top = len(t)\n",
        "  b = df[(df.set_id == set_id)].bottom.values[0]\n",
        "  len_bottom = len(b)\n",
        "  if len_top == 0:\n",
        "    num_no_top =num_no_top +1\n",
        "  if len_bottom == 0:\n",
        "    num_no_bt = num_no_bt+1"
      ],
      "execution_count": null,
      "outputs": [
        {
          "output_type": "stream",
          "text": [
            "100%|██████████| 10208/10208 [00:27<00:00, 366.48it/s]\n"
          ],
          "name": "stderr"
        }
      ]
    },
    {
      "cell_type": "code",
      "metadata": {
        "colab": {
          "base_uri": "https://localhost:8080/"
        },
        "id": "_s_Lp8c-z3_c",
        "outputId": "b5aba68d-34f4-420f-894c-2ecb02d9a2fb"
      },
      "source": [
        "num_no_top\n"
      ],
      "execution_count": null,
      "outputs": [
        {
          "output_type": "execute_result",
          "data": {
            "text/plain": [
              "0"
            ]
          },
          "metadata": {
            "tags": []
          },
          "execution_count": 189
        }
      ]
    },
    {
      "cell_type": "code",
      "metadata": {
        "colab": {
          "base_uri": "https://localhost:8080/"
        },
        "id": "LcBIg9bGXx0F",
        "outputId": "7e2e38e4-4f83-47c5-a885-53742c7cc9f9"
      },
      "source": [
        "num_no_bt"
      ],
      "execution_count": null,
      "outputs": [
        {
          "output_type": "execute_result",
          "data": {
            "text/plain": [
              "0"
            ]
          },
          "metadata": {
            "tags": []
          },
          "execution_count": 190
        }
      ]
    },
    {
      "cell_type": "markdown",
      "metadata": {
        "id": "BTNOfxxpAukI"
      },
      "source": [
        "##2. Edit df => structure: top, bottom in pair"
      ]
    },
    {
      "cell_type": "markdown",
      "metadata": {
        "id": "_m16Vr6NGKtp"
      },
      "source": [
        "### split into train + test set"
      ]
    },
    {
      "cell_type": "code",
      "metadata": {
        "id": "JZVTd9trGNyv"
      },
      "source": [
        "from sklearn.model_selection import train_test_split\n",
        "df_train, df_test = train_test_split(df, test_size=0.2, random_state=42)"
      ],
      "execution_count": null,
      "outputs": []
    },
    {
      "cell_type": "code",
      "metadata": {
        "id": "PKEXfBC2Hk_f",
        "colab": {
          "base_uri": "https://localhost:8080/",
          "height": 419
        },
        "outputId": "99e7ab5a-ce7b-4739-884a-62ca7872643f"
      },
      "source": [
        "df_train"
      ],
      "execution_count": null,
      "outputs": [
        {
          "output_type": "execute_result",
          "data": {
            "text/html": [
              "<div>\n",
              "<style scoped>\n",
              "    .dataframe tbody tr th:only-of-type {\n",
              "        vertical-align: middle;\n",
              "    }\n",
              "\n",
              "    .dataframe tbody tr th {\n",
              "        vertical-align: top;\n",
              "    }\n",
              "\n",
              "    .dataframe thead th {\n",
              "        text-align: right;\n",
              "    }\n",
              "</style>\n",
              "<table border=\"1\" class=\"dataframe\">\n",
              "  <thead>\n",
              "    <tr style=\"text-align: right;\">\n",
              "      <th></th>\n",
              "      <th>set_id</th>\n",
              "      <th>top</th>\n",
              "      <th>bottom</th>\n",
              "    </tr>\n",
              "  </thead>\n",
              "  <tbody>\n",
              "    <tr>\n",
              "      <th>2280</th>\n",
              "      <td>177890155</td>\n",
              "      <td>[10, 9, 2, 3, 4, 5, 6]</td>\n",
              "      <td>[0, 1, 2, 3, 9, 5, 6]</td>\n",
              "    </tr>\n",
              "    <tr>\n",
              "      <th>7936</th>\n",
              "      <td>190378908</td>\n",
              "      <td>[10, 9, 2, 3, 12, 5, 6, 7, 11, 4]</td>\n",
              "      <td>[0, 1, 2, 3, 9, 5, 6]</td>\n",
              "    </tr>\n",
              "    <tr>\n",
              "      <th>5783</th>\n",
              "      <td>106444833</td>\n",
              "      <td>[10, 7, 8, 3, 4, 5, 6, 9, 2]</td>\n",
              "      <td>[0, 1, 2, 3, 9, 5, 10]</td>\n",
              "    </tr>\n",
              "    <tr>\n",
              "      <th>4515</th>\n",
              "      <td>210591329</td>\n",
              "      <td>[10, 9, 2, 3, 4, 5, 6]</td>\n",
              "      <td>[0, 1, 2, 3, 9, 5, 6]</td>\n",
              "    </tr>\n",
              "    <tr>\n",
              "      <th>4001</th>\n",
              "      <td>184429221</td>\n",
              "      <td>[10, 9, 2, 3, 4, 5, 6, 7, 11]</td>\n",
              "      <td>[0, 1, 2, 3, 4, 5, 6]</td>\n",
              "    </tr>\n",
              "    <tr>\n",
              "      <th>...</th>\n",
              "      <td>...</td>\n",
              "      <td>...</td>\n",
              "      <td>...</td>\n",
              "    </tr>\n",
              "    <tr>\n",
              "      <th>5226</th>\n",
              "      <td>215778055</td>\n",
              "      <td>[10, 9, 8, 3, 4, 5, 6]</td>\n",
              "      <td>[0, 1, 2, 3, 9, 5, 6]</td>\n",
              "    </tr>\n",
              "    <tr>\n",
              "      <th>5390</th>\n",
              "      <td>128047829</td>\n",
              "      <td>[10, 1, 2, 3, 4, 5, 6, 8, 7]</td>\n",
              "      <td>[0, 1, 2, 3, 9, 5, 6]</td>\n",
              "    </tr>\n",
              "    <tr>\n",
              "      <th>860</th>\n",
              "      <td>170348709</td>\n",
              "      <td>[0, 7, 2, 3, 4, 5, 6]</td>\n",
              "      <td>[0, 12, 2, 3, 9, 5, 6]</td>\n",
              "    </tr>\n",
              "    <tr>\n",
              "      <th>7603</th>\n",
              "      <td>206667483</td>\n",
              "      <td>[10, 9, 8, 3, 12, 5, 6]</td>\n",
              "      <td>[0, 1, 2, 3, 9, 5, 6]</td>\n",
              "    </tr>\n",
              "    <tr>\n",
              "      <th>7270</th>\n",
              "      <td>198212627</td>\n",
              "      <td>[10, 9, 2, 3, 12, 5, 6]</td>\n",
              "      <td>[0, 1, 2, 3, 9, 5, 6]</td>\n",
              "    </tr>\n",
              "  </tbody>\n",
              "</table>\n",
              "<p>6485 rows × 3 columns</p>\n",
              "</div>"
            ],
            "text/plain": [
              "         set_id                                top                  bottom\n",
              "2280  177890155             [10, 9, 2, 3, 4, 5, 6]   [0, 1, 2, 3, 9, 5, 6]\n",
              "7936  190378908  [10, 9, 2, 3, 12, 5, 6, 7, 11, 4]   [0, 1, 2, 3, 9, 5, 6]\n",
              "5783  106444833       [10, 7, 8, 3, 4, 5, 6, 9, 2]  [0, 1, 2, 3, 9, 5, 10]\n",
              "4515  210591329             [10, 9, 2, 3, 4, 5, 6]   [0, 1, 2, 3, 9, 5, 6]\n",
              "4001  184429221      [10, 9, 2, 3, 4, 5, 6, 7, 11]   [0, 1, 2, 3, 4, 5, 6]\n",
              "...         ...                                ...                     ...\n",
              "5226  215778055             [10, 9, 8, 3, 4, 5, 6]   [0, 1, 2, 3, 9, 5, 6]\n",
              "5390  128047829       [10, 1, 2, 3, 4, 5, 6, 8, 7]   [0, 1, 2, 3, 9, 5, 6]\n",
              "860   170348709              [0, 7, 2, 3, 4, 5, 6]  [0, 12, 2, 3, 9, 5, 6]\n",
              "7603  206667483            [10, 9, 8, 3, 12, 5, 6]   [0, 1, 2, 3, 9, 5, 6]\n",
              "7270  198212627            [10, 9, 2, 3, 12, 5, 6]   [0, 1, 2, 3, 9, 5, 6]\n",
              "\n",
              "[6485 rows x 3 columns]"
            ]
          },
          "metadata": {
            "tags": []
          },
          "execution_count": 115
        }
      ]
    },
    {
      "cell_type": "code",
      "metadata": {
        "id": "KARGbCgZHmiR",
        "colab": {
          "base_uri": "https://localhost:8080/",
          "height": 419
        },
        "outputId": "20ee152c-1a13-4db5-c501-f7f0fa992088"
      },
      "source": [
        "df_test"
      ],
      "execution_count": null,
      "outputs": [
        {
          "output_type": "execute_result",
          "data": {
            "text/html": [
              "<div>\n",
              "<style scoped>\n",
              "    .dataframe tbody tr th:only-of-type {\n",
              "        vertical-align: middle;\n",
              "    }\n",
              "\n",
              "    .dataframe tbody tr th {\n",
              "        vertical-align: top;\n",
              "    }\n",
              "\n",
              "    .dataframe thead th {\n",
              "        text-align: right;\n",
              "    }\n",
              "</style>\n",
              "<table border=\"1\" class=\"dataframe\">\n",
              "  <thead>\n",
              "    <tr style=\"text-align: right;\">\n",
              "      <th></th>\n",
              "      <th>set_id</th>\n",
              "      <th>top</th>\n",
              "      <th>bottom</th>\n",
              "    </tr>\n",
              "  </thead>\n",
              "  <tbody>\n",
              "    <tr>\n",
              "      <th>5062</th>\n",
              "      <td>118070808</td>\n",
              "      <td>[0, 14, 11, 16, 4, 5, 6]</td>\n",
              "      <td>[0, 7, 2, 3, 4, 9, 8]</td>\n",
              "    </tr>\n",
              "    <tr>\n",
              "      <th>2405</th>\n",
              "      <td>209951913</td>\n",
              "      <td>[0, 7, 2, 3, 4, 5, 6, 1, 13]</td>\n",
              "      <td>[0, 23, 2, 3, 4, 5, 6]</td>\n",
              "    </tr>\n",
              "    <tr>\n",
              "      <th>9478</th>\n",
              "      <td>207942109</td>\n",
              "      <td>[0, 9, 2, 3, 4, 5, 6, 1, 11, 12]</td>\n",
              "      <td>[0, 7, 2, 3, 4, 9, 6]</td>\n",
              "    </tr>\n",
              "    <tr>\n",
              "      <th>8713</th>\n",
              "      <td>202127919</td>\n",
              "      <td>[0, 1, 11, 3, 12, 5, 6, 7]</td>\n",
              "      <td>[0, 7, 2, 3, 4, 9, 6]</td>\n",
              "    </tr>\n",
              "    <tr>\n",
              "      <th>9085</th>\n",
              "      <td>212038617</td>\n",
              "      <td>[0, 14, 2, 3, 4, 5, 6]</td>\n",
              "      <td>[0, 13, 2, 3, 4, 9, 8]</td>\n",
              "    </tr>\n",
              "    <tr>\n",
              "      <th>...</th>\n",
              "      <td>...</td>\n",
              "      <td>...</td>\n",
              "      <td>...</td>\n",
              "    </tr>\n",
              "    <tr>\n",
              "      <th>7464</th>\n",
              "      <td>206623682</td>\n",
              "      <td>[0, 1, 2, 3, 4, 5, 6, 14, 13]</td>\n",
              "      <td>[0, 13, 2, 3, 4, 5, 6]</td>\n",
              "    </tr>\n",
              "    <tr>\n",
              "      <th>4248</th>\n",
              "      <td>203955931</td>\n",
              "      <td>[0, 1, 2, 3, 4, 5, 6]</td>\n",
              "      <td>[0, 7, 2, 3, 4, 5, 6]</td>\n",
              "    </tr>\n",
              "    <tr>\n",
              "      <th>8920</th>\n",
              "      <td>216594724</td>\n",
              "      <td>[0, 7, 11, 3, 12, 5, 6, 1, 2, 13]</td>\n",
              "      <td>[0, 7, 2, 3, 4, 9, 6]</td>\n",
              "    </tr>\n",
              "    <tr>\n",
              "      <th>2388</th>\n",
              "      <td>130957723</td>\n",
              "      <td>[0, 1, 11, 3, 12, 5, 6]</td>\n",
              "      <td>[0, 7, 11, 3, 12, 5, 6]</td>\n",
              "    </tr>\n",
              "    <tr>\n",
              "      <th>7471</th>\n",
              "      <td>193440081</td>\n",
              "      <td>[0, 1, 2, 3, 4, 5, 6]</td>\n",
              "      <td>[0, 7, 2, 3, 4, 5, 8]</td>\n",
              "    </tr>\n",
              "  </tbody>\n",
              "</table>\n",
              "<p>2042 rows × 3 columns</p>\n",
              "</div>"
            ],
            "text/plain": [
              "         set_id                                top                   bottom\n",
              "5062  118070808           [0, 14, 11, 16, 4, 5, 6]    [0, 7, 2, 3, 4, 9, 8]\n",
              "2405  209951913       [0, 7, 2, 3, 4, 5, 6, 1, 13]   [0, 23, 2, 3, 4, 5, 6]\n",
              "9478  207942109   [0, 9, 2, 3, 4, 5, 6, 1, 11, 12]    [0, 7, 2, 3, 4, 9, 6]\n",
              "8713  202127919         [0, 1, 11, 3, 12, 5, 6, 7]    [0, 7, 2, 3, 4, 9, 6]\n",
              "9085  212038617             [0, 14, 2, 3, 4, 5, 6]   [0, 13, 2, 3, 4, 9, 8]\n",
              "...         ...                                ...                      ...\n",
              "7464  206623682      [0, 1, 2, 3, 4, 5, 6, 14, 13]   [0, 13, 2, 3, 4, 5, 6]\n",
              "4248  203955931              [0, 1, 2, 3, 4, 5, 6]    [0, 7, 2, 3, 4, 5, 6]\n",
              "8920  216594724  [0, 7, 11, 3, 12, 5, 6, 1, 2, 13]    [0, 7, 2, 3, 4, 9, 6]\n",
              "2388  130957723            [0, 1, 11, 3, 12, 5, 6]  [0, 7, 11, 3, 12, 5, 6]\n",
              "7471  193440081              [0, 1, 2, 3, 4, 5, 6]    [0, 7, 2, 3, 4, 5, 8]\n",
              "\n",
              "[2042 rows x 3 columns]"
            ]
          },
          "metadata": {
            "tags": []
          },
          "execution_count": 192
        }
      ]
    },
    {
      "cell_type": "markdown",
      "metadata": {
        "id": "0hqeUY8M-97t"
      },
      "source": [
        "### split each top to each bottom"
      ]
    },
    {
      "cell_type": "code",
      "metadata": {
        "id": "c3QXqe8wC-sq",
        "colab": {
          "base_uri": "https://localhost:8080/"
        },
        "outputId": "18ab2241-ca75-4aed-9b9e-e99fe171cdff"
      },
      "source": [
        "import itertools  \n",
        "\n",
        "#train \n",
        "df_train_split = pd.DataFrame() \n",
        "\n",
        "\n",
        "for set_id in tqdm(df_train.set_id.unique()):\n",
        "  #x = df[df['set_id'] == set_id].index\n",
        "  A = df_train.loc[df_train['set_id'] == set_id, 'top'].values[0]\n",
        "  B = df_train.loc[df_train['set_id'] == set_id, 'bottom'].values[0]\n",
        "  c = list(itertools.product(A, B))\n",
        "  temp = pd.DataFrame(c,columns =['top_id', 'bottom_id'])\n",
        "  temp['set_id'] = set_id\n",
        "  df_train_split = df_train_split.append(temp)\n",
        "\n",
        "    "
      ],
      "execution_count": null,
      "outputs": [
        {
          "output_type": "stream",
          "text": [
            "100%|██████████| 8166/8166 [01:06<00:00, 122.20it/s]\n"
          ],
          "name": "stderr"
        }
      ]
    },
    {
      "cell_type": "code",
      "metadata": {
        "id": "NZebgAmhegK3",
        "colab": {
          "base_uri": "https://localhost:8080/",
          "height": 204
        },
        "outputId": "30ebe68f-c600-442d-a3fe-983278e4b427"
      },
      "source": [
        "df_train_split.head(5)"
      ],
      "execution_count": null,
      "outputs": [
        {
          "output_type": "execute_result",
          "data": {
            "text/html": [
              "<div>\n",
              "<style scoped>\n",
              "    .dataframe tbody tr th:only-of-type {\n",
              "        vertical-align: middle;\n",
              "    }\n",
              "\n",
              "    .dataframe tbody tr th {\n",
              "        vertical-align: top;\n",
              "    }\n",
              "\n",
              "    .dataframe thead th {\n",
              "        text-align: right;\n",
              "    }\n",
              "</style>\n",
              "<table border=\"1\" class=\"dataframe\">\n",
              "  <thead>\n",
              "    <tr style=\"text-align: right;\">\n",
              "      <th></th>\n",
              "      <th>top_id</th>\n",
              "      <th>bottom_id</th>\n",
              "      <th>set_id</th>\n",
              "    </tr>\n",
              "  </thead>\n",
              "  <tbody>\n",
              "    <tr>\n",
              "      <th>0</th>\n",
              "      <td>10</td>\n",
              "      <td>0</td>\n",
              "      <td>177890155</td>\n",
              "    </tr>\n",
              "    <tr>\n",
              "      <th>1</th>\n",
              "      <td>10</td>\n",
              "      <td>1</td>\n",
              "      <td>177890155</td>\n",
              "    </tr>\n",
              "    <tr>\n",
              "      <th>2</th>\n",
              "      <td>10</td>\n",
              "      <td>2</td>\n",
              "      <td>177890155</td>\n",
              "    </tr>\n",
              "    <tr>\n",
              "      <th>3</th>\n",
              "      <td>10</td>\n",
              "      <td>3</td>\n",
              "      <td>177890155</td>\n",
              "    </tr>\n",
              "    <tr>\n",
              "      <th>4</th>\n",
              "      <td>10</td>\n",
              "      <td>9</td>\n",
              "      <td>177890155</td>\n",
              "    </tr>\n",
              "  </tbody>\n",
              "</table>\n",
              "</div>"
            ],
            "text/plain": [
              "   top_id  bottom_id     set_id\n",
              "0      10          0  177890155\n",
              "1      10          1  177890155\n",
              "2      10          2  177890155\n",
              "3      10          3  177890155\n",
              "4      10          9  177890155"
            ]
          },
          "metadata": {
            "tags": []
          },
          "execution_count": 118
        }
      ]
    },
    {
      "cell_type": "code",
      "metadata": {
        "id": "aIdOXHKueyG4"
      },
      "source": [
        "#df_train_split.rename(columns = {'top':'top_id'}, inplace = True)\n",
        "#df_train_split.rename(columns = {'bottom':'bottom_id'}, inplace = True)"
      ],
      "execution_count": null,
      "outputs": []
    },
    {
      "cell_type": "code",
      "metadata": {
        "id": "DAhBcg0hISai",
        "colab": {
          "base_uri": "https://localhost:8080/"
        },
        "outputId": "071e196e-b89b-4a6b-a1aa-512556f0dc6d"
      },
      "source": [
        "#test \n",
        "df_test_split = pd.DataFrame() \n",
        "\n",
        "\n",
        "for set_id in tqdm(df_test.set_id.unique()):\n",
        "  #x = df[df['set_id'] == set_id].index\n",
        "  A = df_test.loc[df_test['set_id'] == set_id, 'top'].values[0]\n",
        "  B = df_test.loc[df_test['set_id'] == set_id, 'bottom'].values[0]\n",
        "  c = list(itertools.product(A, B))\n",
        "  temp = pd.DataFrame(c,columns =['top_id', 'bottom_id'])\n",
        "  temp['set_id'] = set_id\n",
        "  df_test_split = df_test_split.append(temp)"
      ],
      "execution_count": null,
      "outputs": [
        {
          "output_type": "stream",
          "text": [
            "100%|██████████| 2042/2042 [00:07<00:00, 266.72it/s]\n"
          ],
          "name": "stderr"
        }
      ]
    },
    {
      "cell_type": "code",
      "metadata": {
        "id": "7CT-tguGIciB",
        "colab": {
          "base_uri": "https://localhost:8080/",
          "height": 204
        },
        "outputId": "53b420ad-4f03-4e4d-bd9d-4cfa4b34a39d"
      },
      "source": [
        "df_test_split.head(5)"
      ],
      "execution_count": null,
      "outputs": [
        {
          "output_type": "execute_result",
          "data": {
            "text/html": [
              "<div>\n",
              "<style scoped>\n",
              "    .dataframe tbody tr th:only-of-type {\n",
              "        vertical-align: middle;\n",
              "    }\n",
              "\n",
              "    .dataframe tbody tr th {\n",
              "        vertical-align: top;\n",
              "    }\n",
              "\n",
              "    .dataframe thead th {\n",
              "        text-align: right;\n",
              "    }\n",
              "</style>\n",
              "<table border=\"1\" class=\"dataframe\">\n",
              "  <thead>\n",
              "    <tr style=\"text-align: right;\">\n",
              "      <th></th>\n",
              "      <th>top_id</th>\n",
              "      <th>bottom_id</th>\n",
              "      <th>set_id</th>\n",
              "    </tr>\n",
              "  </thead>\n",
              "  <tbody>\n",
              "    <tr>\n",
              "      <th>0</th>\n",
              "      <td>0</td>\n",
              "      <td>0</td>\n",
              "      <td>118070808</td>\n",
              "    </tr>\n",
              "    <tr>\n",
              "      <th>1</th>\n",
              "      <td>0</td>\n",
              "      <td>7</td>\n",
              "      <td>118070808</td>\n",
              "    </tr>\n",
              "    <tr>\n",
              "      <th>2</th>\n",
              "      <td>0</td>\n",
              "      <td>2</td>\n",
              "      <td>118070808</td>\n",
              "    </tr>\n",
              "    <tr>\n",
              "      <th>3</th>\n",
              "      <td>0</td>\n",
              "      <td>3</td>\n",
              "      <td>118070808</td>\n",
              "    </tr>\n",
              "    <tr>\n",
              "      <th>4</th>\n",
              "      <td>0</td>\n",
              "      <td>4</td>\n",
              "      <td>118070808</td>\n",
              "    </tr>\n",
              "  </tbody>\n",
              "</table>\n",
              "</div>"
            ],
            "text/plain": [
              "   top_id  bottom_id     set_id\n",
              "0       0          0  118070808\n",
              "1       0          7  118070808\n",
              "2       0          2  118070808\n",
              "3       0          3  118070808\n",
              "4       0          4  118070808"
            ]
          },
          "metadata": {
            "tags": []
          },
          "execution_count": 195
        }
      ]
    },
    {
      "cell_type": "code",
      "metadata": {
        "id": "X0vCXvUW8AgM"
      },
      "source": [
        "#df_train_split.to_pickle(\"./Polyvore/cat_v1/train/df_train_split.pkl\")\n",
        "#df_test_split.to_pickle(\"./Polyvore/cat_v1/test/df_test_split.pkl\")\n",
        "\n",
        "df_train_split.to_pickle(\"./Polyvore/cat_v2/vgg16/train/df_train_split.pkl\")\n",
        "df_test_split.to_pickle(\"./Polyvore/cat_v2/vgg16/test/df_test_split.pkl\")"
      ],
      "execution_count": null,
      "outputs": []
    },
    {
      "cell_type": "markdown",
      "metadata": {
        "id": "79QIwZJLJkTx"
      },
      "source": [
        "## 3. Create file df_triplest"
      ]
    },
    {
      "cell_type": "markdown",
      "metadata": {
        "id": "H42DvMeNRysC"
      },
      "source": [
        "### df_triplest"
      ]
    },
    {
      "cell_type": "code",
      "metadata": {
        "id": "Lh_EFicYfc74"
      },
      "source": [
        "#top = pd.read_pickle((\"./Polyvore/cat_v1/top_categories.pkl\"))\n",
        "#bottom = pd.read_pickle((\"./Polyvore/cat_v1/bottom_categories.pkl\"))\n",
        "\n",
        "top = pd.read_pickle((\"./Polyvore/cat_v2/vgg16/top_categories.pkl\"))\n",
        "bottom = pd.read_pickle((\"./Polyvore/cat_v2/vgg16/bottom_categories.pkl\"))"
      ],
      "execution_count": null,
      "outputs": []
    },
    {
      "cell_type": "code",
      "metadata": {
        "id": "_Dft9w9wLnP3",
        "colab": {
          "base_uri": "https://localhost:8080/"
        },
        "outputId": "7b0da6a4-b49c-4709-bb82-35cd0d0a2a3c"
      },
      "source": [
        "#train\n",
        "df_train_triplest = pd.DataFrame(columns=['set_id', 'positive_item_id', 'negative_item_id'])\n",
        "# set_id = top_id; positive_item_id = positive_bottom_id, negative_item_id = negative_item_id\n",
        "\n",
        "cat = list(bottom[\"new\"]) #np.arange(0,14, 1)\n",
        "data = []\n",
        "\n",
        "for top_id in tqdm(df_train_split.top_id.unique()):\n",
        "  positive_items = df_train_split[(df_train_split.top_id == top_id)].bottom_id.unique()\n",
        "\n",
        "  pos = positive_items[:]\n",
        "  negative_items = cat\n",
        "  for i in range(len(pos)):\n",
        "      element = pos[i]\n",
        "      c = negative_items\n",
        "      negative_items = [c[k] for k in range(len(c)) if c[k] != element ]\n",
        "\n",
        "  data.append({'set_id': top_id, 'positive_item_id': positive_items[:], 'negative_item_id': negative_items})\n",
        "df_train_triplest = df_train_triplest.append(data, ignore_index=True)\n",
        "\n"
      ],
      "execution_count": null,
      "outputs": [
        {
          "output_type": "stream",
          "text": [
            "100%|██████████| 29/29 [00:00<00:00, 341.76it/s]\n"
          ],
          "name": "stderr"
        }
      ]
    },
    {
      "cell_type": "code",
      "metadata": {
        "id": "A0YFKaVcNafO",
        "colab": {
          "base_uri": "https://localhost:8080/"
        },
        "outputId": "1c745564-ea9d-43d8-d20c-817b55908e09"
      },
      "source": [
        "df_train_triplest.shape"
      ],
      "execution_count": null,
      "outputs": [
        {
          "output_type": "execute_result",
          "data": {
            "text/plain": [
              "(29, 3)"
            ]
          },
          "metadata": {
            "tags": []
          },
          "execution_count": 199
        }
      ]
    },
    {
      "cell_type": "code",
      "metadata": {
        "id": "ocIS6EQZJNEx",
        "colab": {
          "base_uri": "https://localhost:8080/"
        },
        "outputId": "d33a317b-87aa-430d-8252-c4bf33c573e3"
      },
      "source": [
        "# number of set that dont have negative/ positive items\n",
        "num_no_pos = 0\n",
        "num_no_neg = 0\n",
        "for set_id in tqdm(df_train_triplest.set_id.unique()):\n",
        "  t = df_train_triplest[(df_train_triplest.set_id == set_id)].negative_item_id.values[0]\n",
        "  len_neg = len(t)\n",
        "  b = df_train_triplest[(df_train_triplest.set_id == set_id)].positive_item_id.values[0]\n",
        "  len_pos = len(b)\n",
        "  if len_neg == 0:\n",
        "    num_no_neg =num_no_neg +1\n",
        "  if len_pos == 0:\n",
        "    num_no_pos = num_no_pos+1"
      ],
      "execution_count": null,
      "outputs": [
        {
          "output_type": "stream",
          "text": [
            "100%|██████████| 29/29 [00:00<00:00, 822.60it/s]\n"
          ],
          "name": "stderr"
        }
      ]
    },
    {
      "cell_type": "code",
      "metadata": {
        "id": "EVpDgZYjLbWb",
        "colab": {
          "base_uri": "https://localhost:8080/"
        },
        "outputId": "111ca52e-af05-4031-b65d-4997295960e5"
      },
      "source": [
        "num_no_neg\n",
        "#inceptionv3_v1: 15/40 tops can go with all bottom => trouble\n",
        "#resnet50: 9/19 tops can go with all bottom => trouble\n",
        "#vgg16: 7/29 tops can go with all bottom"
      ],
      "execution_count": null,
      "outputs": [
        {
          "output_type": "execute_result",
          "data": {
            "text/plain": [
              "7"
            ]
          },
          "metadata": {
            "tags": []
          },
          "execution_count": 201
        }
      ]
    },
    {
      "cell_type": "code",
      "metadata": {
        "id": "5gQE27bHP-ms",
        "colab": {
          "base_uri": "https://localhost:8080/"
        },
        "outputId": "b7802dd7-da25-42bf-a4c5-df105faccf47"
      },
      "source": [
        "#test\n",
        "df_test_triplest = pd.DataFrame(columns=['set_id', 'positive_item_id', 'negative_item_id'])\n",
        "# set_id = top_id; positive_item_id = positive_bottom_id, negative_item_id = negative_item_id\n",
        "\n",
        "cat = list(bottom[\"new\"]) #np.arange(0,14, 1)\n",
        "data = []\n",
        "\n",
        "for top_id in tqdm(df_test_split.top_id.unique()):\n",
        "  positive_items = df_test_split[(df_test_split.top_id == top_id)].bottom_id.unique()\n",
        "\n",
        "  pos = positive_items[:]\n",
        "  negative_items = cat\n",
        "  for i in range(len(pos)):\n",
        "      element = pos[i]\n",
        "      c = negative_items\n",
        "      negative_items = [c[k] for k in range(len(c)) if c[k] != element ]\n",
        "\n",
        "  data.append({'set_id': top_id, 'positive_item_id': positive_items[:], 'negative_item_id': negative_items})\n",
        "df_test_triplest = df_test_triplest.append(data, ignore_index=True)\n",
        "\n"
      ],
      "execution_count": null,
      "outputs": [
        {
          "output_type": "stream",
          "text": [
            "100%|██████████| 30/30 [00:00<00:00, 704.86it/s]\n"
          ],
          "name": "stderr"
        }
      ]
    },
    {
      "cell_type": "code",
      "metadata": {
        "id": "KCbkZ1i_M5No"
      },
      "source": [
        "df_test_triplest"
      ],
      "execution_count": null,
      "outputs": []
    },
    {
      "cell_type": "code",
      "metadata": {
        "id": "WZNsE0WsM9Vn",
        "colab": {
          "base_uri": "https://localhost:8080/"
        },
        "outputId": "63bbb22f-3ebd-4e49-f367-6bb5230988f4"
      },
      "source": [
        "# mark tops that dont have negative/ positive bottom items => should I remove these tops?\n",
        "#train\n",
        "num_no_pos = 0\n",
        "num_no_neg = 0\n",
        "for set_id in tqdm(df_train_triplest.set_id.unique()):\n",
        "  t = df_train_triplest[(df_train_triplest.set_id == set_id)].negative_item_id.values[0]\n",
        "  b = df_train_triplest[(df_train_triplest.set_id == set_id)].positive_item_id.values[0]\n",
        "  index = df_train_triplest[(df_train_triplest.set_id == set_id)].index\n",
        "  if len(t) == 0:\n",
        "    num_no_neg =num_no_neg +1\n",
        "    df_train_triplest.at[index,'no_neg_flag'] = 1 \n",
        "  else:\n",
        "    df_train_triplest.at[index,'no_neg_flag'] = 0 \n",
        "\n",
        "  if len(b) == 0:\n",
        "    num_no_pos = num_no_pos+1\n",
        "    df_train_triplest.at[index,'no_pos_flag'] = 1 \n",
        "  else:\n",
        "    df_train_triplest.at[index,'no_pos_flag'] = 0"
      ],
      "execution_count": null,
      "outputs": [
        {
          "output_type": "stream",
          "text": [
            "100%|██████████| 29/29 [00:00<00:00, 379.67it/s]\n"
          ],
          "name": "stderr"
        }
      ]
    },
    {
      "cell_type": "code",
      "metadata": {
        "id": "zaSoX8V8Qc6A",
        "colab": {
          "base_uri": "https://localhost:8080/",
          "height": 204
        },
        "outputId": "bc3ae3a2-d415-4204-fa0f-ac5bc52fae48"
      },
      "source": [
        "df_train_triplest.head(5)"
      ],
      "execution_count": null,
      "outputs": [
        {
          "output_type": "execute_result",
          "data": {
            "text/html": [
              "<div>\n",
              "<style scoped>\n",
              "    .dataframe tbody tr th:only-of-type {\n",
              "        vertical-align: middle;\n",
              "    }\n",
              "\n",
              "    .dataframe tbody tr th {\n",
              "        vertical-align: top;\n",
              "    }\n",
              "\n",
              "    .dataframe thead th {\n",
              "        text-align: right;\n",
              "    }\n",
              "</style>\n",
              "<table border=\"1\" class=\"dataframe\">\n",
              "  <thead>\n",
              "    <tr style=\"text-align: right;\">\n",
              "      <th></th>\n",
              "      <th>set_id</th>\n",
              "      <th>positive_item_id</th>\n",
              "      <th>negative_item_id</th>\n",
              "      <th>no_neg_flag</th>\n",
              "      <th>no_pos_flag</th>\n",
              "    </tr>\n",
              "  </thead>\n",
              "  <tbody>\n",
              "    <tr>\n",
              "      <th>0</th>\n",
              "      <td>10</td>\n",
              "      <td>[0, 1, 2, 3, 9, 5, 6, 10, 4, 8, 11, 14, 12, 13...</td>\n",
              "      <td>[]</td>\n",
              "      <td>1.0</td>\n",
              "      <td>0.0</td>\n",
              "    </tr>\n",
              "    <tr>\n",
              "      <th>1</th>\n",
              "      <td>9</td>\n",
              "      <td>[0, 1, 2, 3, 9, 5, 6, 10, 4, 8, 11, 14, 12, 13...</td>\n",
              "      <td>[]</td>\n",
              "      <td>1.0</td>\n",
              "      <td>0.0</td>\n",
              "    </tr>\n",
              "    <tr>\n",
              "      <th>2</th>\n",
              "      <td>2</td>\n",
              "      <td>[0, 1, 2, 3, 9, 5, 6, 10, 4, 8, 11, 12, 13, 14...</td>\n",
              "      <td>[]</td>\n",
              "      <td>1.0</td>\n",
              "      <td>0.0</td>\n",
              "    </tr>\n",
              "    <tr>\n",
              "      <th>3</th>\n",
              "      <td>3</td>\n",
              "      <td>[0, 1, 2, 3, 9, 5, 6, 10, 4, 8, 11, 14, 12, 13...</td>\n",
              "      <td>[]</td>\n",
              "      <td>1.0</td>\n",
              "      <td>0.0</td>\n",
              "    </tr>\n",
              "    <tr>\n",
              "      <th>4</th>\n",
              "      <td>4</td>\n",
              "      <td>[0, 1, 2, 3, 9, 5, 6, 10, 4, 8, 11, 14, 12, 13...</td>\n",
              "      <td>[]</td>\n",
              "      <td>1.0</td>\n",
              "      <td>0.0</td>\n",
              "    </tr>\n",
              "  </tbody>\n",
              "</table>\n",
              "</div>"
            ],
            "text/plain": [
              "  set_id  ... no_pos_flag\n",
              "0     10  ...         0.0\n",
              "1      9  ...         0.0\n",
              "2      2  ...         0.0\n",
              "3      3  ...         0.0\n",
              "4      4  ...         0.0\n",
              "\n",
              "[5 rows x 5 columns]"
            ]
          },
          "metadata": {
            "tags": []
          },
          "execution_count": 132
        }
      ]
    },
    {
      "cell_type": "code",
      "metadata": {
        "id": "WKG0gdBeXZ99",
        "colab": {
          "base_uri": "https://localhost:8080/"
        },
        "outputId": "79f2be4b-e367-4673-e2bf-0c455e248788"
      },
      "source": [
        "#test\n",
        "num_no_pos = 0\n",
        "num_no_neg = 0\n",
        "for set_id in tqdm(df_test_triplest.set_id.unique()):\n",
        "  t = df_test_triplest[(df_test_triplest.set_id == set_id)].negative_item_id.values[0]\n",
        "  b = df_test_triplest[(df_test_triplest.set_id == set_id)].positive_item_id.values[0]\n",
        "  index = df_test_triplest[(df_test_triplest.set_id == set_id)].index\n",
        "  if len(t) == 0:\n",
        "    num_no_neg =num_no_neg +1\n",
        "    df_test_triplest.at[index,'no_neg_flag'] = 1 \n",
        "  else:\n",
        "    df_test_triplest.at[index,'no_neg_flag'] = 0 \n",
        "\n",
        "  if len(b) == 0:\n",
        "    num_no_pos = num_no_pos+1\n",
        "    df_test_triplest.at[index,'no_pos_flag'] = 1 \n",
        "  else:\n",
        "    df_test_triplest.at[index,'no_pos_flag'] = 0"
      ],
      "execution_count": null,
      "outputs": [
        {
          "output_type": "stream",
          "text": [
            "100%|██████████| 30/30 [00:00<00:00, 374.83it/s]\n"
          ],
          "name": "stderr"
        }
      ]
    },
    {
      "cell_type": "code",
      "metadata": {
        "id": "TTQSetkDgQDB"
      },
      "source": [
        "\n",
        "#df_train_triplest.to_pickle(\"./Polyvore/cat_v1/train/df_train_triplest.pkl\")\n",
        "#df_test_triplest.to_pickle(\"./Polyvore/cat_v1/test/df_test_triplest.pkl\")\n",
        "\n",
        "df_train_triplest.to_pickle(\"./Polyvore/cat_v2/vgg16/train/df_train_triplest.pkl\")\n",
        "df_test_triplest.to_pickle(\"./Polyvore/cat_v2/vgg16/test/df_test_triplest.pkl\")"
      ],
      "execution_count": null,
      "outputs": []
    },
    {
      "cell_type": "code",
      "metadata": {
        "id": "YhXWj1ICfwGY"
      },
      "source": [
        "#all data, just for check code: df_train_triplest.to_pickle((\"./Polyvore/cat_v1/df_triplest.pkl\"))"
      ],
      "execution_count": null,
      "outputs": []
    },
    {
      "cell_type": "markdown",
      "metadata": {
        "id": "fCeu5ILYR4SX"
      },
      "source": [
        "### df_triplest fin"
      ]
    },
    {
      "cell_type": "code",
      "metadata": {
        "id": "K7VqcP0pQUTl",
        "colab": {
          "base_uri": "https://localhost:8080/"
        },
        "outputId": "6f473f25-20a9-492c-8e21-e9b0c8f0c723"
      },
      "source": [
        "import itertools  \n",
        "\n",
        "df_train_triplest_fin = pd.DataFrame() \n",
        "\n",
        "for set_id in tqdm(df_train_triplest.set_id.unique()):\n",
        "  #x = df[df['set_id'] == set_id].index\n",
        "  A = df_train_triplest.loc[df_train_triplest['set_id'] == set_id, 'positive_item_id'].values[0]\n",
        "  B = df_train_triplest.loc[df_train_triplest['set_id'] == set_id, 'negative_item_id'].values[0]\n",
        "  c = list(itertools.product(A, B))\n",
        "  temp = pd.DataFrame(c,columns =['positive_item_id', 'negative_item_id'])\n",
        "  temp['set_id'] = set_id\n",
        "  df_train_triplest_fin = df_train_triplest_fin.append(temp)"
      ],
      "execution_count": null,
      "outputs": [
        {
          "output_type": "stream",
          "text": [
            "100%|██████████| 29/29 [00:00<00:00, 331.64it/s]\n"
          ],
          "name": "stderr"
        }
      ]
    },
    {
      "cell_type": "code",
      "metadata": {
        "id": "yQPHls_0Qkq4",
        "colab": {
          "base_uri": "https://localhost:8080/",
          "height": 419
        },
        "outputId": "97e572b2-eca3-4d6a-924c-1ea1787d6ffb"
      },
      "source": [
        "df_train_triplest_fin#.head(5) \n",
        "#v1: 2324 rows\n",
        "#inceptionv3_v1:  4038 rows\n",
        "#resnet50: 645 rows\n",
        "#vgg16: 3326 rows"
      ],
      "execution_count": null,
      "outputs": [
        {
          "output_type": "execute_result",
          "data": {
            "text/html": [
              "<div>\n",
              "<style scoped>\n",
              "    .dataframe tbody tr th:only-of-type {\n",
              "        vertical-align: middle;\n",
              "    }\n",
              "\n",
              "    .dataframe tbody tr th {\n",
              "        vertical-align: top;\n",
              "    }\n",
              "\n",
              "    .dataframe thead th {\n",
              "        text-align: right;\n",
              "    }\n",
              "</style>\n",
              "<table border=\"1\" class=\"dataframe\">\n",
              "  <thead>\n",
              "    <tr style=\"text-align: right;\">\n",
              "      <th></th>\n",
              "      <th>positive_item_id</th>\n",
              "      <th>negative_item_id</th>\n",
              "      <th>set_id</th>\n",
              "    </tr>\n",
              "  </thead>\n",
              "  <tbody>\n",
              "    <tr>\n",
              "      <th>0</th>\n",
              "      <td>0</td>\n",
              "      <td>27</td>\n",
              "      <td>7</td>\n",
              "    </tr>\n",
              "    <tr>\n",
              "      <th>1</th>\n",
              "      <td>0</td>\n",
              "      <td>28</td>\n",
              "      <td>7</td>\n",
              "    </tr>\n",
              "    <tr>\n",
              "      <th>2</th>\n",
              "      <td>7</td>\n",
              "      <td>27</td>\n",
              "      <td>7</td>\n",
              "    </tr>\n",
              "    <tr>\n",
              "      <th>3</th>\n",
              "      <td>7</td>\n",
              "      <td>28</td>\n",
              "      <td>7</td>\n",
              "    </tr>\n",
              "    <tr>\n",
              "      <th>4</th>\n",
              "      <td>2</td>\n",
              "      <td>27</td>\n",
              "      <td>7</td>\n",
              "    </tr>\n",
              "    <tr>\n",
              "      <th>...</th>\n",
              "      <td>...</td>\n",
              "      <td>...</td>\n",
              "      <td>...</td>\n",
              "    </tr>\n",
              "    <tr>\n",
              "      <th>185</th>\n",
              "      <td>12</td>\n",
              "      <td>24</td>\n",
              "      <td>25</td>\n",
              "    </tr>\n",
              "    <tr>\n",
              "      <th>186</th>\n",
              "      <td>12</td>\n",
              "      <td>25</td>\n",
              "      <td>25</td>\n",
              "    </tr>\n",
              "    <tr>\n",
              "      <th>187</th>\n",
              "      <td>12</td>\n",
              "      <td>26</td>\n",
              "      <td>25</td>\n",
              "    </tr>\n",
              "    <tr>\n",
              "      <th>188</th>\n",
              "      <td>12</td>\n",
              "      <td>27</td>\n",
              "      <td>25</td>\n",
              "    </tr>\n",
              "    <tr>\n",
              "      <th>189</th>\n",
              "      <td>12</td>\n",
              "      <td>28</td>\n",
              "      <td>25</td>\n",
              "    </tr>\n",
              "  </tbody>\n",
              "</table>\n",
              "<p>3326 rows × 3 columns</p>\n",
              "</div>"
            ],
            "text/plain": [
              "    positive_item_id negative_item_id  set_id\n",
              "0                  0               27       7\n",
              "1                  0               28       7\n",
              "2                  7               27       7\n",
              "3                  7               28       7\n",
              "4                  2               27       7\n",
              "..               ...              ...     ...\n",
              "185               12               24      25\n",
              "186               12               25      25\n",
              "187               12               26      25\n",
              "188               12               27      25\n",
              "189               12               28      25\n",
              "\n",
              "[3326 rows x 3 columns]"
            ]
          },
          "metadata": {
            "tags": []
          },
          "execution_count": 207
        }
      ]
    },
    {
      "cell_type": "code",
      "metadata": {
        "id": "wv3DOfL-Oxgo",
        "colab": {
          "base_uri": "https://localhost:8080/"
        },
        "outputId": "5b854b40-0d28-41b6-910e-ecc3b7ceab8f"
      },
      "source": [
        "df_train_triplest_fin.set_id.unique()"
      ],
      "execution_count": null,
      "outputs": [
        {
          "output_type": "execute_result",
          "data": {
            "text/plain": [
              "array([ 7, 11, 13, 10,  8, 12, 20, 14, 23, 18, 19, 15,  9, 16, 27, 21, 26,\n",
              "       17, 24, 28, 22, 25])"
            ]
          },
          "metadata": {
            "tags": []
          },
          "execution_count": 208
        }
      ]
    },
    {
      "cell_type": "code",
      "metadata": {
        "id": "VZXxY88EgoHH"
      },
      "source": [
        "#df_train_triplest_fin.to_pickle((\"./Polyvore/cat_v1/train/df_train_triplest_fin.pkl\"))\n",
        "#./Polyvore/cat_v1/train/df_train_triplest.pkl\n",
        "\n",
        "df_train_triplest_fin.to_pickle((\"./Polyvore/cat_v2/vgg16/train/df_train_triplest_fin.pkl\"))"
      ],
      "execution_count": null,
      "outputs": []
    },
    {
      "cell_type": "code",
      "metadata": {
        "id": "c7tNd66IbI2l",
        "colab": {
          "base_uri": "https://localhost:8080/"
        },
        "outputId": "1ca9c22d-2bc0-49b3-dd0c-ba194c3bdc76"
      },
      "source": [
        "import itertools  \n",
        "\n",
        "df_test_triplest_fin = pd.DataFrame() \n",
        "\n",
        "for set_id in tqdm(df_test_triplest.set_id.unique()):\n",
        "  #x = df[df['set_id'] == set_id].index\n",
        "  A = df_test_triplest.loc[df_test_triplest['set_id'] == set_id, 'positive_item_id'].values[0]\n",
        "  B = df_test_triplest.loc[df_test_triplest['set_id'] == set_id, 'negative_item_id'].values[0]\n",
        "  c = list(itertools.product(A, B))\n",
        "  temp = pd.DataFrame(c,columns =['positive_item_id', 'negative_item_id'])\n",
        "  temp['set_id'] = set_id\n",
        "  df_test_triplest_fin = df_test_triplest_fin.append(temp)\n"
      ],
      "execution_count": null,
      "outputs": [
        {
          "output_type": "stream",
          "text": [
            "100%|██████████| 30/30 [00:00<00:00, 410.73it/s]\n"
          ],
          "name": "stderr"
        }
      ]
    },
    {
      "cell_type": "code",
      "metadata": {
        "id": "yjLutHTbNw40",
        "colab": {
          "base_uri": "https://localhost:8080/",
          "height": 419
        },
        "outputId": "8f45584b-cf8c-4113-ce80-58b6d86e1ae2"
      },
      "source": [
        "df_test_triplest_fin \n",
        "#v1: 2504 rows\n",
        "#inceptionv3_v1:  7976 rows\n",
        "#resnet50: 916 rows\n",
        "#vgg16: 4666 rows"
      ],
      "execution_count": null,
      "outputs": [
        {
          "output_type": "execute_result",
          "data": {
            "text/html": [
              "<div>\n",
              "<style scoped>\n",
              "    .dataframe tbody tr th:only-of-type {\n",
              "        vertical-align: middle;\n",
              "    }\n",
              "\n",
              "    .dataframe tbody tr th {\n",
              "        vertical-align: top;\n",
              "    }\n",
              "\n",
              "    .dataframe thead th {\n",
              "        text-align: right;\n",
              "    }\n",
              "</style>\n",
              "<table border=\"1\" class=\"dataframe\">\n",
              "  <thead>\n",
              "    <tr style=\"text-align: right;\">\n",
              "      <th></th>\n",
              "      <th>positive_item_id</th>\n",
              "      <th>negative_item_id</th>\n",
              "      <th>set_id</th>\n",
              "    </tr>\n",
              "  </thead>\n",
              "  <tbody>\n",
              "    <tr>\n",
              "      <th>0</th>\n",
              "      <td>0</td>\n",
              "      <td>21</td>\n",
              "      <td>0</td>\n",
              "    </tr>\n",
              "    <tr>\n",
              "      <th>1</th>\n",
              "      <td>0</td>\n",
              "      <td>24</td>\n",
              "      <td>0</td>\n",
              "    </tr>\n",
              "    <tr>\n",
              "      <th>2</th>\n",
              "      <td>0</td>\n",
              "      <td>27</td>\n",
              "      <td>0</td>\n",
              "    </tr>\n",
              "    <tr>\n",
              "      <th>3</th>\n",
              "      <td>0</td>\n",
              "      <td>28</td>\n",
              "      <td>0</td>\n",
              "    </tr>\n",
              "    <tr>\n",
              "      <th>4</th>\n",
              "      <td>7</td>\n",
              "      <td>21</td>\n",
              "      <td>0</td>\n",
              "    </tr>\n",
              "    <tr>\n",
              "      <th>...</th>\n",
              "      <td>...</td>\n",
              "      <td>...</td>\n",
              "      <td>...</td>\n",
              "    </tr>\n",
              "    <tr>\n",
              "      <th>149</th>\n",
              "      <td>6</td>\n",
              "      <td>24</td>\n",
              "      <td>28</td>\n",
              "    </tr>\n",
              "    <tr>\n",
              "      <th>150</th>\n",
              "      <td>6</td>\n",
              "      <td>25</td>\n",
              "      <td>28</td>\n",
              "    </tr>\n",
              "    <tr>\n",
              "      <th>151</th>\n",
              "      <td>6</td>\n",
              "      <td>26</td>\n",
              "      <td>28</td>\n",
              "    </tr>\n",
              "    <tr>\n",
              "      <th>152</th>\n",
              "      <td>6</td>\n",
              "      <td>27</td>\n",
              "      <td>28</td>\n",
              "    </tr>\n",
              "    <tr>\n",
              "      <th>153</th>\n",
              "      <td>6</td>\n",
              "      <td>28</td>\n",
              "      <td>28</td>\n",
              "    </tr>\n",
              "  </tbody>\n",
              "</table>\n",
              "<p>4666 rows × 3 columns</p>\n",
              "</div>"
            ],
            "text/plain": [
              "     positive_item_id  negative_item_id  set_id\n",
              "0                   0                21       0\n",
              "1                   0                24       0\n",
              "2                   0                27       0\n",
              "3                   0                28       0\n",
              "4                   7                21       0\n",
              "..                ...               ...     ...\n",
              "149                 6                24      28\n",
              "150                 6                25      28\n",
              "151                 6                26      28\n",
              "152                 6                27      28\n",
              "153                 6                28      28\n",
              "\n",
              "[4666 rows x 3 columns]"
            ]
          },
          "metadata": {
            "tags": []
          },
          "execution_count": 211
        }
      ]
    },
    {
      "cell_type": "code",
      "metadata": {
        "id": "ri7gVug3Q2y8"
      },
      "source": [
        "#df_train_triplest_fin.to_pickle(\"./Polyvore/cat_v1/train/df_train_triplest_fin.pkl\")\n",
        "#df_test_triplest_fin.to_pickle(\"./Polyvore/cat_v1/test/df_test_triplest_fin.pkl\")\n",
        "\n",
        "df_train_triplest_fin.to_pickle(\"./Polyvore/cat_v2/vgg16/train/df_train_triplest_fin.pkl\")\n",
        "df_test_triplest_fin.to_pickle(\"./Polyvore/cat_v2/vgg16/test/df_test_triplest_fin.pkl\")"
      ],
      "execution_count": null,
      "outputs": []
    },
    {
      "cell_type": "markdown",
      "metadata": {
        "id": "CmhbQJY6TGaX"
      },
      "source": [
        "## 4. Build model"
      ]
    },
    {
      "cell_type": "code",
      "metadata": {
        "id": "cNjhwQsDc-K0"
      },
      "source": [
        "#top = pd.read_pickle((\"./Polyvore/cat_v1/top_categories.pkl\"))\n",
        "#bottom = pd.read_pickle((\"./Polyvore/cat_v1/bottom_categories.pkl\"))\n",
        "\n",
        "top = pd.read_pickle((\"./Polyvore/cat_v2/vgg16/top_categories.pkl\"))\n",
        "bottom = pd.read_pickle((\"./Polyvore/cat_v2/vgg16/bottom_categories.pkl\"))"
      ],
      "execution_count": null,
      "outputs": []
    },
    {
      "cell_type": "code",
      "metadata": {
        "id": "fAXIhZ5gXiax"
      },
      "source": [
        "#df_train_triplest_fin = pd.read_pickle(\"./Polyvore/cat_v1/train/df_train_triplest_fin.pkl\")\n",
        "#df_test_triplest_fin = pd.read_pickle(\"./Polyvore/cat_v1/test/df_test_triplest_fin.pkl\")\n",
        "\n",
        "df_train_triplest_fin = pd.read_pickle(\"./Polyvore/cat_v2/vgg16/train/df_train_triplest_fin.pkl\")"
      ],
      "execution_count": null,
      "outputs": []
    },
    {
      "cell_type": "code",
      "metadata": {
        "id": "94N66kSTS0QM"
      },
      "source": [
        "#frames = [df_train_triplest_fin, df_test_triplest_fin]\n",
        "  \n",
        "#df_triplest = pd.concat(frames)\n",
        "df_triplest = df_train_triplest_fin"
      ],
      "execution_count": null,
      "outputs": []
    },
    {
      "cell_type": "code",
      "metadata": {
        "id": "crvi9TdbVSaS",
        "colab": {
          "base_uri": "https://localhost:8080/",
          "height": 419
        },
        "outputId": "92df9d49-60a1-4ace-b545-f4896b02986d"
      },
      "source": [
        "df_triplest.drop_duplicates()\n",
        "df_triplest"
      ],
      "execution_count": null,
      "outputs": [
        {
          "output_type": "execute_result",
          "data": {
            "text/html": [
              "<div>\n",
              "<style scoped>\n",
              "    .dataframe tbody tr th:only-of-type {\n",
              "        vertical-align: middle;\n",
              "    }\n",
              "\n",
              "    .dataframe tbody tr th {\n",
              "        vertical-align: top;\n",
              "    }\n",
              "\n",
              "    .dataframe thead th {\n",
              "        text-align: right;\n",
              "    }\n",
              "</style>\n",
              "<table border=\"1\" class=\"dataframe\">\n",
              "  <thead>\n",
              "    <tr style=\"text-align: right;\">\n",
              "      <th></th>\n",
              "      <th>positive_item_id</th>\n",
              "      <th>negative_item_id</th>\n",
              "      <th>set_id</th>\n",
              "    </tr>\n",
              "  </thead>\n",
              "  <tbody>\n",
              "    <tr>\n",
              "      <th>0</th>\n",
              "      <td>0</td>\n",
              "      <td>27</td>\n",
              "      <td>7</td>\n",
              "    </tr>\n",
              "    <tr>\n",
              "      <th>1</th>\n",
              "      <td>0</td>\n",
              "      <td>28</td>\n",
              "      <td>7</td>\n",
              "    </tr>\n",
              "    <tr>\n",
              "      <th>2</th>\n",
              "      <td>7</td>\n",
              "      <td>27</td>\n",
              "      <td>7</td>\n",
              "    </tr>\n",
              "    <tr>\n",
              "      <th>3</th>\n",
              "      <td>7</td>\n",
              "      <td>28</td>\n",
              "      <td>7</td>\n",
              "    </tr>\n",
              "    <tr>\n",
              "      <th>4</th>\n",
              "      <td>2</td>\n",
              "      <td>27</td>\n",
              "      <td>7</td>\n",
              "    </tr>\n",
              "    <tr>\n",
              "      <th>...</th>\n",
              "      <td>...</td>\n",
              "      <td>...</td>\n",
              "      <td>...</td>\n",
              "    </tr>\n",
              "    <tr>\n",
              "      <th>185</th>\n",
              "      <td>12</td>\n",
              "      <td>24</td>\n",
              "      <td>25</td>\n",
              "    </tr>\n",
              "    <tr>\n",
              "      <th>186</th>\n",
              "      <td>12</td>\n",
              "      <td>25</td>\n",
              "      <td>25</td>\n",
              "    </tr>\n",
              "    <tr>\n",
              "      <th>187</th>\n",
              "      <td>12</td>\n",
              "      <td>26</td>\n",
              "      <td>25</td>\n",
              "    </tr>\n",
              "    <tr>\n",
              "      <th>188</th>\n",
              "      <td>12</td>\n",
              "      <td>27</td>\n",
              "      <td>25</td>\n",
              "    </tr>\n",
              "    <tr>\n",
              "      <th>189</th>\n",
              "      <td>12</td>\n",
              "      <td>28</td>\n",
              "      <td>25</td>\n",
              "    </tr>\n",
              "  </tbody>\n",
              "</table>\n",
              "<p>3326 rows × 3 columns</p>\n",
              "</div>"
            ],
            "text/plain": [
              "    positive_item_id negative_item_id  set_id\n",
              "0                  0               27       7\n",
              "1                  0               28       7\n",
              "2                  7               27       7\n",
              "3                  7               28       7\n",
              "4                  2               27       7\n",
              "..               ...              ...     ...\n",
              "185               12               24      25\n",
              "186               12               25      25\n",
              "187               12               26      25\n",
              "188               12               27      25\n",
              "189               12               28      25\n",
              "\n",
              "[3326 rows x 3 columns]"
            ]
          },
          "metadata": {
            "tags": []
          },
          "execution_count": 6
        }
      ]
    },
    {
      "cell_type": "code",
      "metadata": {
        "id": "aRwpKlKFUA07",
        "colab": {
          "base_uri": "https://localhost:8080/"
        },
        "outputId": "fa9092c9-e96d-416f-88be-9af133873adc"
      },
      "source": [
        "unique_users = top.new.unique()\n",
        "unique_movies = bottom.new.unique() #np.arange(0,34, 1) 33 category\n",
        "\n",
        "num_users = unique_users.shape[0]\n",
        "num_items = unique_movies.shape[0]\n",
        "\n",
        "num_users, num_items"
      ],
      "execution_count": null,
      "outputs": [
        {
          "output_type": "execute_result",
          "data": {
            "text/plain": [
              "(30, 29)"
            ]
          },
          "metadata": {
            "tags": []
          },
          "execution_count": 7
        }
      ]
    },
    {
      "cell_type": "code",
      "metadata": {
        "id": "KjCybilPjvDp"
      },
      "source": [
        "unique_movie_ids = list(bottom.new.unique())"
      ],
      "execution_count": null,
      "outputs": []
    },
    {
      "cell_type": "code",
      "metadata": {
        "id": "z-doAEFbTmk8"
      },
      "source": [
        "import numpy as np\n",
        "import pandas as pd\n",
        "from os import path\n",
        "from collections import OrderedDict\n",
        "from tqdm import tqdm\n",
        "from typing import Dict\n",
        "\n",
        "import tensorflow as tf\n",
        "from tensorflow.keras.models import Model, load_model\n",
        "from tensorflow.keras.layers import Embedding, Flatten, Input, Lambda\n",
        "from tensorflow.keras.optimizers import Adam\n",
        "import tensorflow.keras.backend as K\n",
        "\n",
        "from sklearn.metrics import roc_auc_score\n",
        "\n",
        "import matplotlib.pyplot as plt\n",
        "\n",
        "%matplotlib inline"
      ],
      "execution_count": null,
      "outputs": []
    },
    {
      "cell_type": "code",
      "metadata": {
        "id": "r8jB5To4Trtr"
      },
      "source": [
        "def bpr_predict(model: Model, user_id: int, item_ids: list, user_layer='user_embedding', item_layer='item_embedding'):\n",
        "    \"\"\"\n",
        "    Predict by multiplication user vector by item matrix\n",
        "    \n",
        "    :return: list of the scores\n",
        "    \"\"\"\n",
        "    user_vector = model.get_layer(user_layer).get_weights()[0][user_id]\n",
        "    item_matrix = model.get_layer(item_layer).get_weights()[0][item_ids]\n",
        "\n",
        "    scores = (np.dot(user_vector, item_matrix.T))\n",
        "\n",
        "    return scores"
      ],
      "execution_count": null,
      "outputs": []
    },
    {
      "cell_type": "code",
      "metadata": {
        "id": "KR-6YnxZTtb7"
      },
      "source": [
        "@tf.function\n",
        "def identity_loss(_, y_pred):\n",
        "    return tf.math.reduce_mean(y_pred)"
      ],
      "execution_count": null,
      "outputs": []
    },
    {
      "cell_type": "code",
      "metadata": {
        "id": "GvfffUtUTv_E"
      },
      "source": [
        "@tf.function\n",
        "def bpr_triplet_loss(X: dict):\n",
        "    \"\"\"\n",
        "    Calculate triplet loss - as higher the difference between positive interactions\n",
        "    and negative interactions as better\n",
        "\n",
        "    :param X: X contains the user input, positive item input, negative item input\n",
        "    :return:\n",
        "    \"\"\"\n",
        "    positive_item_latent, negative_item_latent, user_latent = X\n",
        "\n",
        "    positive_interactions = tf.math.reduce_sum(tf.math.multiply(user_latent, positive_item_latent), axis=-1, keepdims=True)\n",
        "    negative_interactions = tf.math.reduce_sum(tf.math.multiply(user_latent, negative_item_latent), axis=-1, keepdims=True)\n",
        "\n",
        "    return tf.math.subtract(tf.constant(1.0), tf.sigmoid(tf.math.subtract(positive_interactions, negative_interactions)))"
      ],
      "execution_count": null,
      "outputs": []
    },
    {
      "cell_type": "code",
      "metadata": {
        "id": "LmOAT5u7Tyry"
      },
      "source": [
        "def out_shape(shapes):\n",
        "    return shapes[0]\n",
        "    \n",
        "\n",
        "def build_model(num_users: int, num_items: int, latent_dim: int) -> Model:\n",
        "    \"\"\"\n",
        "    Build a model for Bayesian personalized ranking\n",
        "\n",
        "    :param num_users: a number of the unique users\n",
        "    :param num_items: a number of the unique movies\n",
        "    :param latent_dim: vector length for the latent representation\n",
        "    :return: Model\n",
        "    \"\"\"\n",
        "    user_input = Input((1,), name='user_input')\n",
        "\n",
        "    positive_item_input = Input((1,), name='positive_item_input')\n",
        "    negative_item_input = Input((1,), name='negative_item_input')\n",
        "    # One embedding layer is shared between positive and negative items\n",
        "    item_embedding_layer = Embedding(num_items, latent_dim, name='item_embedding', input_length=1)\n",
        "\n",
        "    positive_item_embedding = Flatten()(item_embedding_layer(positive_item_input))\n",
        "    negative_item_embedding = Flatten()(item_embedding_layer(negative_item_input))\n",
        "\n",
        "    user_embedding = Embedding(num_users, latent_dim, name='user_embedding', input_length=1)(user_input)\n",
        "    user_embedding = Flatten()(user_embedding)\n",
        "\n",
        "    triplet_loss = Lambda(bpr_triplet_loss, output_shape=out_shape)([positive_item_embedding,\n",
        "                                                             negative_item_embedding,\n",
        "                                                             user_embedding])\n",
        "\n",
        "    model = Model(inputs=[positive_item_input, negative_item_input, user_input], outputs=triplet_loss)\n",
        "\n",
        "    return model"
      ],
      "execution_count": null,
      "outputs": []
    },
    {
      "cell_type": "code",
      "metadata": {
        "id": "UN-9-Y-bT30T"
      },
      "source": [
        "'''\n",
        "#1\n",
        "latent_dim = 32\n",
        "batch_size = 125 \n",
        "num_epochs = 1\n",
        "lr = 0.001\n",
        "'''\n",
        "#2\n",
        "latent_dim = 32\n",
        "batch_size = 125 \n",
        "num_epochs = 5 ##\n",
        "lr = 0.001\n",
        "\n",
        "'''\n",
        "#3\n",
        "latent_dim = 32\n",
        "batch_size = 125 \n",
        "num_epochs = 1\n",
        "lr = 0.01 ##\n",
        "\n",
        "#4\n",
        "latent_dim = 32\n",
        "batch_size = 256 ##\n",
        "num_epochs = 1\n",
        "lr = 0.001\n",
        "\n",
        "#5\n",
        "latent_dim = 64 ##\n",
        "batch_size = 256 \n",
        "num_epochs = 1\n",
        "lr = 0.001\n",
        "\n",
        "#6\n",
        "latent_dim = 32\n",
        "batch_size = 125 \n",
        "num_epochs = 10 ##\n",
        "lr = 0.001\n",
        "\n",
        "#7\n",
        "latent_dim = 32\n",
        "batch_size = 125 \n",
        "num_epochs = 5\n",
        "lr = 0.01\n",
        "\n",
        "#8\n",
        "latent_dim = 32\n",
        "batch_size = 125 \n",
        "num_epochs = 1\n",
        "lr = 0.1\n",
        "'''\n",
        "\n",
        "model = build_model(num_users, num_items, latent_dim)\n",
        "model.compile(loss=identity_loss, optimizer=Adam(learning_rate=lr))"
      ],
      "execution_count": null,
      "outputs": []
    },
    {
      "cell_type": "code",
      "metadata": {
        "id": "7Ss0zGFtU0xd",
        "colab": {
          "base_uri": "https://localhost:8080/"
        },
        "outputId": "d8300be0-0ac0-4f29-b605-2c8cae9eac57"
      },
      "source": [
        "trainable_count = np.sum([K.count_params(w) for w in model.trainable_weights])\n",
        "non_trainable_count = np.sum([K.count_params(w) for w in model.non_trainable_weights])\n",
        "\n",
        "print('Total number of parameters: {:,}'.format(trainable_count + non_trainable_count))\n",
        "print('Trainable number of parameters: {:,}'.format(trainable_count))\n",
        "print('Non-trainable number of parameters: {:,}'.format(non_trainable_count))\n",
        "\n",
        "print('Training data length: {:,}'.format(df_triplest.shape[0]))"
      ],
      "execution_count": null,
      "outputs": [
        {
          "output_type": "stream",
          "text": [
            "Total number of parameters: 1,888.0\n",
            "Trainable number of parameters: 1,888\n",
            "Non-trainable number of parameters: 0.0\n",
            "Training data length: 3,326\n"
          ],
          "name": "stdout"
        }
      ]
    },
    {
      "cell_type": "code",
      "metadata": {
        "id": "D__h4Gw9i_-S",
        "colab": {
          "base_uri": "https://localhost:8080/"
        },
        "outputId": "e4e6540e-1cdc-48e0-dfb8-775c38a5d581"
      },
      "source": [
        "# fix error Failed to convert a NumPy array to a Tensor (Unsupported object type int)\n",
        "df_triplest['negative_item_id'] = np.asarray(df_triplest.negative_item_id).astype(np.int64)\n",
        "df_triplest['positive_item_id'] = np.asarray(df_triplest.positive_item_id).astype(np.int64)\n",
        "\n",
        "df_triplest.dtypes"
      ],
      "execution_count": null,
      "outputs": [
        {
          "output_type": "execute_result",
          "data": {
            "text/plain": [
              "positive_item_id    int64\n",
              "negative_item_id    int64\n",
              "set_id              int64\n",
              "dtype: object"
            ]
          },
          "metadata": {
            "tags": []
          },
          "execution_count": 16
        }
      ]
    },
    {
      "cell_type": "code",
      "metadata": {
        "id": "9o_J_hhyU5Mi",
        "colab": {
          "base_uri": "https://localhost:8080/"
        },
        "outputId": "d9d89326-89a7-47be-fa1f-ebea2960716d"
      },
      "source": [
        "#%%time\n",
        "\n",
        "X = {\n",
        "    'user_input': tf.convert_to_tensor(df_triplest.set_id),\n",
        "    'positive_item_input': tf.convert_to_tensor(df_triplest.positive_item_id),\n",
        "    'negative_item_input': tf.convert_to_tensor(df_triplest.negative_item_id)\n",
        "    \n",
        "}\n",
        "\n",
        "model.fit(X,tf.ones(df_triplest.shape[0]), batch_size=batch_size,epochs=num_epochs)\n"
      ],
      "execution_count": null,
      "outputs": [
        {
          "output_type": "stream",
          "text": [
            "Epoch 1/5\n",
            "27/27 [==============================] - 1s 1ms/step - loss: 0.4984\n",
            "Epoch 2/5\n",
            "27/27 [==============================] - 0s 1ms/step - loss: 0.4899\n",
            "Epoch 3/5\n",
            "27/27 [==============================] - 0s 2ms/step - loss: 0.4635\n",
            "Epoch 4/5\n",
            "27/27 [==============================] - 0s 2ms/step - loss: 0.4072\n",
            "Epoch 5/5\n",
            "27/27 [==============================] - 0s 3ms/step - loss: 0.3246\n"
          ],
          "name": "stdout"
        },
        {
          "output_type": "execute_result",
          "data": {
            "text/plain": [
              "<tensorflow.python.keras.callbacks.History at 0x7ffb288462d0>"
            ]
          },
          "metadata": {
            "tags": []
          },
          "execution_count": 17
        }
      ]
    },
    {
      "cell_type": "markdown",
      "metadata": {
        "id": "CjEDnXY8oICP"
      },
      "source": [
        "##Evaluation"
      ]
    },
    {
      "cell_type": "markdown",
      "metadata": {
        "id": "SgjxsMGZoN4P"
      },
      "source": [
        "### Def function"
      ]
    },
    {
      "cell_type": "code",
      "metadata": {
        "id": "p4HgHUXuoGDJ"
      },
      "source": [
        "def full_auc(model: Model, ground_truth: Dict[int, list], items: list) -> float:\n",
        "    \"\"\"\n",
        "    Measure AUC for model and ground truth for all items\n",
        "    :param model: \n",
        "    :param ground_truth: dictionary of the users and the high ranked movies for the specific user\n",
        "    :param items: a list of the all available movies\n",
        "    :return: AUC\n",
        "    \"\"\"\n",
        "\n",
        "    number_of_items = len(items)\n",
        "    scores = []\n",
        "\n",
        "    for user_id, true_item_ids in ground_truth:\n",
        "        predictions = bpr_predict(model, user_id, items)\n",
        "        grnd = np.zeros(number_of_items, dtype=np.int32)\n",
        "\n",
        "        for p in true_item_ids:\n",
        "            index = items.index(p)\n",
        "            grnd[index] = 1\n",
        "\n",
        "        if true_item_ids:\n",
        "          try:\n",
        "            a=0\n",
        "            a = roc_auc_score(grnd, predictions)\n",
        "          except ValueError:\n",
        "            pass\n",
        "          scores.append(a)\n",
        "\n",
        "    return sum(scores) / len(scores)"
      ],
      "execution_count": null,
      "outputs": []
    },
    {
      "cell_type": "code",
      "metadata": {
        "id": "vZZrxrXjoQaP"
      },
      "source": [
        "def mean_average_precision_k(model: Model, \n",
        "                           ground_truth: Dict[int, list], \n",
        "                           items: list, \n",
        "                           k=100) -> float:\n",
        "    \"\"\"\n",
        "    Calculate mean eavarage precission per user\n",
        "    \n",
        "    :param model: \n",
        "    :param ground_truth: dictionary of the users and the high ranked movies for the specific user\n",
        "    :param items: a list of the all available movies\n",
        "    :param k: top N recommendations per user\n",
        "    :return: mean eavarage precission\n",
        "    \"\"\"\n",
        "    scores = []\n",
        "\n",
        "    for user, actual in ground_truth:\n",
        "        predictions = bpr_predict(model, user, items)\n",
        "        predictions = dict(zip(items, predictions))\n",
        "        predictions = sorted(predictions.items(), key=lambda kv: kv[1], reverse=True)[:k]\n",
        "        predictions = list(OrderedDict(predictions).keys())\n",
        "\n",
        "        score = 0.0\n",
        "        num_hits = 0.0\n",
        "\n",
        "        for i, p in enumerate(predictions):\n",
        "            if p in actual:\n",
        "                num_hits += 1.0\n",
        "                score += num_hits / (i + 1.0)\n",
        "\n",
        "        score = score / min(len(actual), k)\n",
        "        scores.append(score)\n",
        "\n",
        "    return np.mean(scores)"
      ],
      "execution_count": null,
      "outputs": []
    },
    {
      "cell_type": "markdown",
      "metadata": {
        "id": "k8UYHCJIqVrm"
      },
      "source": [
        "### prepare ground_truth"
      ]
    },
    {
      "cell_type": "code",
      "metadata": {
        "id": "IIvSkXTHbK1M"
      },
      "source": [
        "#df_train_split = pd.read_pickle(\"./Polyvore/cat_v1/train/df_train_split.pkl\")\n",
        "#df_test_split = pd.read_pickle(\"./Polyvore/cat_v1/test/df_test_split.pkl\")\n",
        "\n",
        "df_train_split = pd.read_pickle(\"./Polyvore/cat_v2/vgg16/train/df_train_split.pkl\")\n",
        "df_test_split = pd.read_pickle(\"./Polyvore/cat_v2/vgg16/test/df_test_split.pkl\")"
      ],
      "execution_count": null,
      "outputs": []
    },
    {
      "cell_type": "code",
      "metadata": {
        "id": "IxGvlKN9yttz"
      },
      "source": [
        "from tqdm import tqdm"
      ],
      "execution_count": null,
      "outputs": []
    },
    {
      "cell_type": "code",
      "metadata": {
        "id": "kZXovLUOzJAy",
        "colab": {
          "base_uri": "https://localhost:8080/"
        },
        "outputId": "04a4212d-c08e-43fb-b6ec-5bc5cdd670a7"
      },
      "source": [
        "# train\n",
        "ground_truth_train = pd.DataFrame(columns=['top_id', 'bottom_id'])\n",
        "data = []\n",
        "for top_id in tqdm(df_train_split.top_id.unique()):\n",
        "  b = df_train_split[(df_train_split.top_id == top_id)].bottom_id.unique()\n",
        "\n",
        "  data.append({'top_id': top_id, 'bottom_id': b})\n",
        "ground_truth_train = ground_truth_train.append(data, ignore_index=True)\n",
        "\n"
      ],
      "execution_count": null,
      "outputs": [
        {
          "output_type": "stream",
          "text": [
            "100%|██████████| 29/29 [00:00<00:00, 330.33it/s]\n"
          ],
          "name": "stderr"
        }
      ]
    },
    {
      "cell_type": "code",
      "metadata": {
        "id": "-2tN3ogz1h6D",
        "colab": {
          "base_uri": "https://localhost:8080/"
        },
        "outputId": "7e6cd7f5-73a3-4252-b987-5e188dd9eeda"
      },
      "source": [
        "ground_truth_test = pd.DataFrame(columns=['top_id', 'bottom_id'])\n",
        "data = []\n",
        "for top_id in tqdm(df_test_split.top_id.unique()):\n",
        "  b = df_test_split[(df_test_split.top_id == top_id)].bottom_id.unique()\n",
        "\n",
        "  data.append({'top_id': top_id, 'bottom_id': b})\n",
        "ground_truth_test = ground_truth_test.append(data, ignore_index=True)"
      ],
      "execution_count": null,
      "outputs": [
        {
          "output_type": "stream",
          "text": [
            "100%|██████████| 30/30 [00:00<00:00, 737.39it/s]\n"
          ],
          "name": "stderr"
        }
      ]
    },
    {
      "cell_type": "code",
      "metadata": {
        "id": "o9n5chZEFCQl"
      },
      "source": [
        "ground_truth_train['top_id'] = np.asarray(ground_truth_train.top_id).astype(np.int64)\n",
        "ground_truth_test['top_id'] = np.asarray(ground_truth_test.top_id).astype(np.int64)"
      ],
      "execution_count": null,
      "outputs": []
    },
    {
      "cell_type": "code",
      "metadata": {
        "id": "VOWLfj28zzSe",
        "colab": {
          "base_uri": "https://localhost:8080/"
        },
        "outputId": "c61288ad-c77e-47bc-d8af-74846fc87914"
      },
      "source": [
        "#Train\n",
        "\n",
        "##top_id\n",
        "ground_truth_train['top_id'] = np.asarray(ground_truth_train.top_id).astype(np.int64)\n",
        "##bottom_id\n",
        "for i in range(0,len(ground_truth_train.index)):\n",
        "  a = ground_truth_train['bottom_id'][i]\n",
        "  ground_truth_train['bottom_id'][i] = a.tolist()\n"
      ],
      "execution_count": null,
      "outputs": [
        {
          "output_type": "stream",
          "text": [
            "/usr/local/lib/python3.7/dist-packages/ipykernel_launcher.py:8: SettingWithCopyWarning: \n",
            "A value is trying to be set on a copy of a slice from a DataFrame\n",
            "\n",
            "See the caveats in the documentation: https://pandas.pydata.org/pandas-docs/stable/user_guide/indexing.html#returning-a-view-versus-a-copy\n",
            "  \n"
          ],
          "name": "stderr"
        }
      ]
    },
    {
      "cell_type": "code",
      "metadata": {
        "id": "Tsq92Rivz_Nx",
        "colab": {
          "base_uri": "https://localhost:8080/"
        },
        "outputId": "d08878bb-7bef-4364-e3f5-6e812bfab5ec"
      },
      "source": [
        "#Test\n",
        "##top_id\n",
        "ground_truth_test['top_id'] = np.asarray(ground_truth_test.top_id).astype(np.int64)\n",
        "##bottom_id\n",
        "for i in range(0,len(ground_truth_test.index)):\n",
        "  a = ground_truth_test['bottom_id'][i]\n",
        "  ground_truth_test['bottom_id'][i] = a.tolist()\n"
      ],
      "execution_count": null,
      "outputs": [
        {
          "output_type": "stream",
          "text": [
            "/usr/local/lib/python3.7/dist-packages/ipykernel_launcher.py:7: SettingWithCopyWarning: \n",
            "A value is trying to be set on a copy of a slice from a DataFrame\n",
            "\n",
            "See the caveats in the documentation: https://pandas.pydata.org/pandas-docs/stable/user_guide/indexing.html#returning-a-view-versus-a-copy\n",
            "  import sys\n"
          ],
          "name": "stderr"
        }
      ]
    },
    {
      "cell_type": "code",
      "metadata": {
        "id": "uDgW7V9W0PkP",
        "colab": {
          "base_uri": "https://localhost:8080/"
        },
        "outputId": "fd656847-1eeb-44a1-fbf7-737ff6c75c86"
      },
      "source": [
        "ground_truth_test.dtypes"
      ],
      "execution_count": null,
      "outputs": [
        {
          "output_type": "execute_result",
          "data": {
            "text/plain": [
              "top_id        int64\n",
              "bottom_id    object\n",
              "dtype: object"
            ]
          },
          "metadata": {
            "tags": []
          },
          "execution_count": 100
        }
      ]
    },
    {
      "cell_type": "code",
      "metadata": {
        "id": "00i6qQRn0WOh"
      },
      "source": [
        "import pickle\n",
        "\n",
        "#ground_truth_train.to_pickle(\"./Polyvore/cat_v1/train/df_ground_truth_train.pkl\")\n",
        "#ground_truth_test.to_pickle(\"./Polyvore/cat_v1/test/df_ground_truth_test.pkl\")\n",
        "\n",
        "ground_truth_train.to_pickle(\"./Polyvore/cat_v2/vgg16/train/df_ground_truth_train.pkl\")\n",
        "ground_truth_test.to_pickle(\"./Polyvore/cat_v2/vgg16/test/df_ground_truth_test.pkl\")"
      ],
      "execution_count": null,
      "outputs": []
    },
    {
      "cell_type": "markdown",
      "metadata": {
        "id": "PJ08i6lAoSO1"
      },
      "source": [
        "### Test"
      ]
    },
    {
      "cell_type": "code",
      "metadata": {
        "id": "JUQkTgZKjSp4"
      },
      "source": [
        "#ground_truth_train = pd.read_pickle(\"./Polyvore/Filtered_top_bottom/train/df_ground_truth_train.pkl\")\n",
        "#ground_truth_test = pd.read_pickle(\"./Polyvore/Filtered_top_bottom/test/ground_truth_test.pkl\")\n",
        "\n",
        "ground_truth_train = pd.read_pickle(\"./Polyvore/cat_v2/vgg16/train/df_ground_truth_train.pkl\")\n",
        "ground_truth_test = pd.read_pickle(\"./Polyvore/cat_v2/vgg16/test/df_ground_truth_test.pkl\")"
      ],
      "execution_count": null,
      "outputs": []
    },
    {
      "cell_type": "code",
      "metadata": {
        "id": "fa-dT93GoXH3",
        "colab": {
          "base_uri": "https://localhost:8080/"
        },
        "outputId": "0cfa2bf7-a54e-40e6-be18-8eede876d313"
      },
      "source": [
        "print(f'AUC train: {full_auc(model, ground_truth_train.values, unique_movie_ids)}')"
      ],
      "execution_count": null,
      "outputs": [
        {
          "output_type": "stream",
          "text": [
            "AUC train: 0.7461570580311906\n"
          ],
          "name": "stdout"
        }
      ]
    },
    {
      "cell_type": "code",
      "metadata": {
        "id": "mMSpr5h8oYYf",
        "colab": {
          "base_uri": "https://localhost:8080/"
        },
        "outputId": "1746b6cb-e5dd-460d-e2ee-4ef0a7189687"
      },
      "source": [
        "print(f'Mean average precision train: {mean_average_precision_k(model, ground_truth_train.values, unique_movie_ids)}')"
      ],
      "execution_count": null,
      "outputs": [
        {
          "output_type": "stream",
          "text": [
            "Mean average precision train: 0.9931820308844622\n"
          ],
          "name": "stdout"
        }
      ]
    },
    {
      "cell_type": "code",
      "metadata": {
        "id": "UAbtnUL5oauU",
        "colab": {
          "base_uri": "https://localhost:8080/"
        },
        "outputId": "adabdf85-dce4-4bba-b3e6-7eaba2650a19"
      },
      "source": [
        "print(f'AUC test: {full_auc(model, ground_truth_test.values, unique_movie_ids)}')"
      ],
      "execution_count": null,
      "outputs": [
        {
          "output_type": "stream",
          "text": [
            "AUC test: 0.8405816524339541\n"
          ],
          "name": "stdout"
        }
      ]
    },
    {
      "cell_type": "code",
      "metadata": {
        "id": "gyRwXHqqocI_",
        "colab": {
          "base_uri": "https://localhost:8080/"
        },
        "outputId": "8d2a9a12-a647-4da2-9683-ada81e322e55"
      },
      "source": [
        "print(f'Mean average precision test: {mean_average_precision_k(model, ground_truth_test.values, unique_movie_ids)}')"
      ],
      "execution_count": null,
      "outputs": [
        {
          "output_type": "stream",
          "text": [
            "Mean average precision test: 0.9094907020313784\n"
          ],
          "name": "stdout"
        }
      ]
    },
    {
      "cell_type": "code",
      "metadata": {
        "id": "8EVVeq5RAa6h"
      },
      "source": [
        "from sklearn.metrics import f1_score, accuracy_score, classification_report, confusion_matrix, mean_squared_error"
      ],
      "execution_count": null,
      "outputs": []
    },
    {
      "cell_type": "code",
      "metadata": {
        "id": "Xdtk-7rP9VRr"
      },
      "source": [
        "def F1_score(model: Model, ground_truth: Dict[int, list], items: list) -> float:\n",
        "    \"\"\"\n",
        "    Measure AUC for model and ground truth for all items\n",
        "    :param model: \n",
        "    :param ground_truth: dictionary of the users and the high ranked movies for the specific user\n",
        "    :param items: a list of the all available movies\n",
        "    :return: AUC\n",
        "    \"\"\"\n",
        "\n",
        "    number_of_items = len(items)\n",
        "    pred = []\n",
        "    true = []\n",
        "\n",
        "    for user_id, true_item_ids in ground_truth:\n",
        "        predictions = bpr_predict(model, user_id, items)\n",
        "        grnd = np.zeros(number_of_items, dtype=np.int32)\n",
        "\n",
        "        for p in true_item_ids:\n",
        "            index = items.index(p)\n",
        "            grnd[index] = 1\n",
        "\n",
        "        pred.append(predictions)\n",
        "        true.append(grnd)\n",
        "\n",
        "    preds = pred.nonzero().flatten()\n",
        "\n",
        "    return f1_score(true, pred, average='weighted')"
      ],
      "execution_count": null,
      "outputs": []
    },
    {
      "cell_type": "code",
      "metadata": {
        "colab": {
          "base_uri": "https://localhost:8080/",
          "height": 317
        },
        "id": "pN7lDmtKARha",
        "outputId": "039a5b98-1b46-4239-ab98-6859458039c6"
      },
      "source": [
        "print(f'F1 scpre: {F1_score(model, ground_truth_test.values, unique_movie_ids)}')"
      ],
      "execution_count": null,
      "outputs": [
        {
          "output_type": "error",
          "ename": "ValueError",
          "evalue": "ignored",
          "traceback": [
            "\u001b[0;31m---------------------------------------------------------------------------\u001b[0m",
            "\u001b[0;31mValueError\u001b[0m                                Traceback (most recent call last)",
            "\u001b[0;32m<ipython-input-327-c308bf9f5d42>\u001b[0m in \u001b[0;36m<module>\u001b[0;34m()\u001b[0m\n\u001b[0;32m----> 1\u001b[0;31m \u001b[0mprint\u001b[0m\u001b[0;34m(\u001b[0m\u001b[0;34mf'F1 scpre: {F1_score(model, ground_truth_test.values, unique_movie_ids)}'\u001b[0m\u001b[0;34m)\u001b[0m\u001b[0;34m\u001b[0m\u001b[0;34m\u001b[0m\u001b[0m\n\u001b[0m",
            "\u001b[0;32m<ipython-input-326-c7994c16202b>\u001b[0m in \u001b[0;36mF1_score\u001b[0;34m(model, ground_truth, items)\u001b[0m\n\u001b[1;32m     23\u001b[0m         \u001b[0mtrue\u001b[0m\u001b[0;34m.\u001b[0m\u001b[0mappend\u001b[0m\u001b[0;34m(\u001b[0m\u001b[0mgrnd\u001b[0m\u001b[0;34m)\u001b[0m\u001b[0;34m\u001b[0m\u001b[0;34m\u001b[0m\u001b[0m\n\u001b[1;32m     24\u001b[0m \u001b[0;34m\u001b[0m\u001b[0m\n\u001b[0;32m---> 25\u001b[0;31m     \u001b[0;32mreturn\u001b[0m \u001b[0mf1_score\u001b[0m\u001b[0;34m(\u001b[0m\u001b[0mtrue\u001b[0m\u001b[0;34m,\u001b[0m \u001b[0mpred\u001b[0m\u001b[0;34m,\u001b[0m \u001b[0maverage\u001b[0m\u001b[0;34m=\u001b[0m\u001b[0;34m'weighted'\u001b[0m\u001b[0;34m)\u001b[0m\u001b[0;34m\u001b[0m\u001b[0;34m\u001b[0m\u001b[0m\n\u001b[0m",
            "\u001b[0;32m/usr/local/lib/python3.7/dist-packages/sklearn/metrics/_classification.py\u001b[0m in \u001b[0;36mf1_score\u001b[0;34m(y_true, y_pred, labels, pos_label, average, sample_weight, zero_division)\u001b[0m\n\u001b[1;32m   1097\u001b[0m                        \u001b[0mpos_label\u001b[0m\u001b[0;34m=\u001b[0m\u001b[0mpos_label\u001b[0m\u001b[0;34m,\u001b[0m \u001b[0maverage\u001b[0m\u001b[0;34m=\u001b[0m\u001b[0maverage\u001b[0m\u001b[0;34m,\u001b[0m\u001b[0;34m\u001b[0m\u001b[0;34m\u001b[0m\u001b[0m\n\u001b[1;32m   1098\u001b[0m                        \u001b[0msample_weight\u001b[0m\u001b[0;34m=\u001b[0m\u001b[0msample_weight\u001b[0m\u001b[0;34m,\u001b[0m\u001b[0;34m\u001b[0m\u001b[0;34m\u001b[0m\u001b[0m\n\u001b[0;32m-> 1099\u001b[0;31m                        zero_division=zero_division)\n\u001b[0m\u001b[1;32m   1100\u001b[0m \u001b[0;34m\u001b[0m\u001b[0m\n\u001b[1;32m   1101\u001b[0m \u001b[0;34m\u001b[0m\u001b[0m\n",
            "\u001b[0;32m/usr/local/lib/python3.7/dist-packages/sklearn/metrics/_classification.py\u001b[0m in \u001b[0;36mfbeta_score\u001b[0;34m(y_true, y_pred, beta, labels, pos_label, average, sample_weight, zero_division)\u001b[0m\n\u001b[1;32m   1224\u001b[0m                                                  \u001b[0mwarn_for\u001b[0m\u001b[0;34m=\u001b[0m\u001b[0;34m(\u001b[0m\u001b[0;34m'f-score'\u001b[0m\u001b[0;34m,\u001b[0m\u001b[0;34m)\u001b[0m\u001b[0;34m,\u001b[0m\u001b[0;34m\u001b[0m\u001b[0;34m\u001b[0m\u001b[0m\n\u001b[1;32m   1225\u001b[0m                                                  \u001b[0msample_weight\u001b[0m\u001b[0;34m=\u001b[0m\u001b[0msample_weight\u001b[0m\u001b[0;34m,\u001b[0m\u001b[0;34m\u001b[0m\u001b[0;34m\u001b[0m\u001b[0m\n\u001b[0;32m-> 1226\u001b[0;31m                                                  zero_division=zero_division)\n\u001b[0m\u001b[1;32m   1227\u001b[0m     \u001b[0;32mreturn\u001b[0m \u001b[0mf\u001b[0m\u001b[0;34m\u001b[0m\u001b[0;34m\u001b[0m\u001b[0m\n\u001b[1;32m   1228\u001b[0m \u001b[0;34m\u001b[0m\u001b[0m\n",
            "\u001b[0;32m/usr/local/lib/python3.7/dist-packages/sklearn/metrics/_classification.py\u001b[0m in \u001b[0;36mprecision_recall_fscore_support\u001b[0;34m(y_true, y_pred, beta, labels, pos_label, average, warn_for, sample_weight, zero_division)\u001b[0m\n\u001b[1;32m   1482\u001b[0m         \u001b[0;32mraise\u001b[0m \u001b[0mValueError\u001b[0m\u001b[0;34m(\u001b[0m\u001b[0;34m\"beta should be >=0 in the F-beta score\"\u001b[0m\u001b[0;34m)\u001b[0m\u001b[0;34m\u001b[0m\u001b[0;34m\u001b[0m\u001b[0m\n\u001b[1;32m   1483\u001b[0m     labels = _check_set_wise_labels(y_true, y_pred, average, labels,\n\u001b[0;32m-> 1484\u001b[0;31m                                     pos_label)\n\u001b[0m\u001b[1;32m   1485\u001b[0m \u001b[0;34m\u001b[0m\u001b[0m\n\u001b[1;32m   1486\u001b[0m     \u001b[0;31m# Calculate tp_sum, pred_sum, true_sum ###\u001b[0m\u001b[0;34m\u001b[0m\u001b[0;34m\u001b[0m\u001b[0;34m\u001b[0m\u001b[0m\n",
            "\u001b[0;32m/usr/local/lib/python3.7/dist-packages/sklearn/metrics/_classification.py\u001b[0m in \u001b[0;36m_check_set_wise_labels\u001b[0;34m(y_true, y_pred, average, labels, pos_label)\u001b[0m\n\u001b[1;32m   1299\u001b[0m                          str(average_options))\n\u001b[1;32m   1300\u001b[0m \u001b[0;34m\u001b[0m\u001b[0m\n\u001b[0;32m-> 1301\u001b[0;31m     \u001b[0my_type\u001b[0m\u001b[0;34m,\u001b[0m \u001b[0my_true\u001b[0m\u001b[0;34m,\u001b[0m \u001b[0my_pred\u001b[0m \u001b[0;34m=\u001b[0m \u001b[0m_check_targets\u001b[0m\u001b[0;34m(\u001b[0m\u001b[0my_true\u001b[0m\u001b[0;34m,\u001b[0m \u001b[0my_pred\u001b[0m\u001b[0;34m)\u001b[0m\u001b[0;34m\u001b[0m\u001b[0;34m\u001b[0m\u001b[0m\n\u001b[0m\u001b[1;32m   1302\u001b[0m     \u001b[0mpresent_labels\u001b[0m \u001b[0;34m=\u001b[0m \u001b[0munique_labels\u001b[0m\u001b[0;34m(\u001b[0m\u001b[0my_true\u001b[0m\u001b[0;34m,\u001b[0m \u001b[0my_pred\u001b[0m\u001b[0;34m)\u001b[0m\u001b[0;34m\u001b[0m\u001b[0;34m\u001b[0m\u001b[0m\n\u001b[1;32m   1303\u001b[0m     \u001b[0;32mif\u001b[0m \u001b[0maverage\u001b[0m \u001b[0;34m==\u001b[0m \u001b[0;34m'binary'\u001b[0m\u001b[0;34m:\u001b[0m\u001b[0;34m\u001b[0m\u001b[0;34m\u001b[0m\u001b[0m\n",
            "\u001b[0;32m/usr/local/lib/python3.7/dist-packages/sklearn/metrics/_classification.py\u001b[0m in \u001b[0;36m_check_targets\u001b[0;34m(y_true, y_pred)\u001b[0m\n\u001b[1;32m     88\u001b[0m     \u001b[0;32mif\u001b[0m \u001b[0mlen\u001b[0m\u001b[0;34m(\u001b[0m\u001b[0my_type\u001b[0m\u001b[0;34m)\u001b[0m \u001b[0;34m>\u001b[0m \u001b[0;36m1\u001b[0m\u001b[0;34m:\u001b[0m\u001b[0;34m\u001b[0m\u001b[0;34m\u001b[0m\u001b[0m\n\u001b[1;32m     89\u001b[0m         raise ValueError(\"Classification metrics can't handle a mix of {0} \"\n\u001b[0;32m---> 90\u001b[0;31m                          \"and {1} targets\".format(type_true, type_pred))\n\u001b[0m\u001b[1;32m     91\u001b[0m \u001b[0;34m\u001b[0m\u001b[0m\n\u001b[1;32m     92\u001b[0m     \u001b[0;31m# We can't have more than one value on y_type => The set is no more needed\u001b[0m\u001b[0;34m\u001b[0m\u001b[0;34m\u001b[0m\u001b[0;34m\u001b[0m\u001b[0m\n",
            "\u001b[0;31mValueError\u001b[0m: Classification metrics can't handle a mix of multilabel-indicator and continuous-multioutput targets"
          ]
        }
      ]
    },
    {
      "cell_type": "code",
      "metadata": {
        "colab": {
          "base_uri": "https://localhost:8080/"
        },
        "id": "asxn-Dzm-fI-",
        "outputId": "b94e0e48-b996-450e-885a-4ff6a9506822"
      },
      "source": [
        "if a.any():\n",
        "  print('Y')\n",
        "else:\n",
        "  print('N')"
      ],
      "execution_count": null,
      "outputs": [
        {
          "output_type": "stream",
          "text": [
            "Y\n"
          ],
          "name": "stdout"
        }
      ]
    },
    {
      "cell_type": "code",
      "metadata": {
        "id": "Gri0ZIJF2yrq"
      },
      "source": [
        "def sk_evaluate(model, feature, label, label_names):\n",
        "    pred = model.predict(feature)\n",
        "    true = np.array(label)\n",
        "\n",
        "    print('Score on dataset...\\n')\n",
        "    print('Confusion Matrix:\\n', confusion_matrix(true, pred))\n",
        "    print('\\nClassification Report:\\n', classification_report(true, pred, target_names=label_names))\n",
        "    print('\\naccuracy: {:.3f}'.format(accuracy_score(true, pred)))\n",
        "    print('f1 score: {:.3f}'.format(f1_score(true, pred, average='weighted')))\n",
        "\n",
        "    return pred, true"
      ],
      "execution_count": null,
      "outputs": []
    },
    {
      "cell_type": "code",
      "metadata": {
        "id": "d6D7GJFs218r"
      },
      "source": [
        "print('Performance of Mean Word Vector on training dataset...')\n",
        "_, _ = sk_evaluate(clf, train_X, train_y, label_names=None)"
      ],
      "execution_count": null,
      "outputs": []
    },
    {
      "cell_type": "markdown",
      "metadata": {
        "id": "Xf8XXDt_-GYZ"
      },
      "source": [
        "##Make recommendation"
      ]
    },
    {
      "cell_type": "code",
      "metadata": {
        "id": "SiE-EzQLrA7Z"
      },
      "source": [
        "a = [3, 2, 1, 7, 10, 8, 9, 4, 6, 5] #input.top_category"
      ],
      "execution_count": null,
      "outputs": []
    },
    {
      "cell_type": "code",
      "metadata": {
        "id": "3OitYW1pY0mW"
      },
      "source": [
        "#full pair_score \n",
        "df_pair_score =  pd.DataFrame(columns=['top_id', 'bottom_id','pair_score'])\n",
        "data = []\n",
        "\n",
        "for i in range(len(a)) :\n",
        "  top = a[i]\n",
        "  pair_score_list =  np.asarray(bpr_predict(model, top, unique_movie_ids)).astype(np.float)\n",
        "  for j in range(len(pair_score_list)):\n",
        "    index = j \n",
        "    pair_score = pair_score_list[j]\n",
        "    data.append({'top_id': top,'bottom_id':index, 'pair_score':pair_score})\n",
        "\n",
        "df_pair_score = df_pair_score.append(data,ignore_index=True)"
      ],
      "execution_count": null,
      "outputs": []
    },
    {
      "cell_type": "code",
      "metadata": {
        "id": "AIWyBxuPX2rf"
      },
      "source": [
        "df_pair_score.head(5)"
      ],
      "execution_count": null,
      "outputs": []
    },
    {
      "cell_type": "code",
      "metadata": {
        "id": "Cb6dyBJnZesF"
      },
      "source": [
        "# top 5:\n",
        "top_5_pairs =  pd.DataFrame(columns=['pair_score', 'top_id','bottom_id'])\n",
        "df_top5 =  pd.DataFrame(columns=['pair_score', 'top_id','bottom_id'])\n",
        "\n",
        "for top_id in df_pair_score.top_id.unique():\n",
        "  tmp = df_pair_score.loc[(df_pair_score['top_id'] == top_id)]\n",
        "  data = sorted(zip(tmp.pair_score,tmp.top_id,tmp.bottom_id), reverse=True)[:5]\n",
        "  del df_top5\n",
        "  df_top5 = pd.DataFrame(data,columns=['pair_score', 'top_id','bottom_id'])\n",
        "  top_5_pairs = top_5_pairs.append(df_top5,ignore_index= True)"
      ],
      "execution_count": null,
      "outputs": []
    },
    {
      "cell_type": "code",
      "metadata": {
        "id": "pOAexDaruins"
      },
      "source": [
        "#test\n",
        "#df_pair_score.loc[(df_pair_score.top_id==2)].sort_values(by=['pair_score'],ascending = False)\n",
        "top_5_pairs.head(5)"
      ],
      "execution_count": null,
      "outputs": []
    },
    {
      "cell_type": "code",
      "metadata": {
        "id": "vtsynEK4wpcx"
      },
      "source": [
        "best_match_bottom = top_5_pairs.bottom_id.unique()"
      ],
      "execution_count": null,
      "outputs": []
    },
    {
      "cell_type": "code",
      "metadata": {
        "id": "tcHYK7oyw-C7"
      },
      "source": [
        "best_match_bottom"
      ],
      "execution_count": null,
      "outputs": []
    },
    {
      "cell_type": "code",
      "metadata": {
        "id": "5Z5IpIzkv3Xb"
      },
      "source": [
        "# img list with its attributes: img_id, bottom_category\n",
        "cat = bottom['new']\n",
        "for every img_id:\n",
        "  for every bottom_id in bottom_category:\n",
        "    score = 0\n",
        "    for i in len(cat):\n",
        "    if bottom_id == cat[i]:\n",
        "      \n",
        "      score = score +"
      ],
      "execution_count": null,
      "outputs": []
    },
    {
      "cell_type": "code",
      "metadata": {
        "id": "eCyY9ogQx5z7"
      },
      "source": [
        "cat = bottom['new']"
      ],
      "execution_count": null,
      "outputs": []
    },
    {
      "cell_type": "markdown",
      "metadata": {
        "id": "D4YdGu37zG_N"
      },
      "source": [
        "## Make RCM 2:"
      ]
    },
    {
      "cell_type": "code",
      "metadata": {
        "id": "36DpPlfUzpra"
      },
      "source": [
        "#top= pd.read_pickle(\"./Polyvore/cat_v1/top_categories.pkl\")\n",
        "\n",
        "top = pd.read_pickle((\"./Polyvore/cat_v2/vgg16/top_categories.pkl\"))\n",
        "bottom = pd.read_pickle((\"./Polyvore/cat_v2/vgg16/bottom_categories.pkl\"))"
      ],
      "execution_count": null,
      "outputs": []
    },
    {
      "cell_type": "markdown",
      "metadata": {
        "id": "pSkOm2oF0eoR"
      },
      "source": [
        "### Table with full list of pair score:"
      ]
    },
    {
      "cell_type": "code",
      "metadata": {
        "id": "dCMXmuZzzLQ1"
      },
      "source": [
        "#table with full list of pair score:\n",
        "\n",
        "df_pair_score =  pd.DataFrame(columns=['top_id', 'bottom_id','pair_score'])\n",
        "data = []\n",
        "a = top['new']\n",
        "\n",
        "for i in range(len(a)) :\n",
        "  top = a[i]\n",
        "  pair_score_list =  np.asarray(bpr_predict(model, top, unique_movie_ids)).astype(np.float)\n",
        "  for j in range(len(pair_score_list)):\n",
        "    index = j \n",
        "    pair_score = pair_score_list[j]\n",
        "    data.append({'top_id': top,'bottom_id':index, 'pair_score':pair_score})\n",
        "\n",
        "df_pair_score = df_pair_score.append(data,ignore_index=True)"
      ],
      "execution_count": null,
      "outputs": []
    },
    {
      "cell_type": "code",
      "metadata": {
        "colab": {
          "base_uri": "https://localhost:8080/",
          "height": 406
        },
        "id": "waLVipUK2KAv",
        "outputId": "49f6c766-8e38-40e4-dd14-9fadb53de154"
      },
      "source": [
        "df_pair_score"
      ],
      "execution_count": null,
      "outputs": [
        {
          "output_type": "execute_result",
          "data": {
            "text/html": [
              "<div>\n",
              "<style scoped>\n",
              "    .dataframe tbody tr th:only-of-type {\n",
              "        vertical-align: middle;\n",
              "    }\n",
              "\n",
              "    .dataframe tbody tr th {\n",
              "        vertical-align: top;\n",
              "    }\n",
              "\n",
              "    .dataframe thead th {\n",
              "        text-align: right;\n",
              "    }\n",
              "</style>\n",
              "<table border=\"1\" class=\"dataframe\">\n",
              "  <thead>\n",
              "    <tr style=\"text-align: right;\">\n",
              "      <th></th>\n",
              "      <th>top_id</th>\n",
              "      <th>bottom_id</th>\n",
              "      <th>pair_score</th>\n",
              "    </tr>\n",
              "  </thead>\n",
              "  <tbody>\n",
              "    <tr>\n",
              "      <th>0</th>\n",
              "      <td>0</td>\n",
              "      <td>0</td>\n",
              "      <td>0.022888</td>\n",
              "    </tr>\n",
              "    <tr>\n",
              "      <th>1</th>\n",
              "      <td>0</td>\n",
              "      <td>1</td>\n",
              "      <td>0.000591</td>\n",
              "    </tr>\n",
              "    <tr>\n",
              "      <th>2</th>\n",
              "      <td>0</td>\n",
              "      <td>2</td>\n",
              "      <td>0.025932</td>\n",
              "    </tr>\n",
              "    <tr>\n",
              "      <th>3</th>\n",
              "      <td>0</td>\n",
              "      <td>3</td>\n",
              "      <td>0.017773</td>\n",
              "    </tr>\n",
              "    <tr>\n",
              "      <th>4</th>\n",
              "      <td>0</td>\n",
              "      <td>4</td>\n",
              "      <td>0.016789</td>\n",
              "    </tr>\n",
              "    <tr>\n",
              "      <th>...</th>\n",
              "      <td>...</td>\n",
              "      <td>...</td>\n",
              "      <td>...</td>\n",
              "    </tr>\n",
              "    <tr>\n",
              "      <th>865</th>\n",
              "      <td>29</td>\n",
              "      <td>24</td>\n",
              "      <td>0.044797</td>\n",
              "    </tr>\n",
              "    <tr>\n",
              "      <th>866</th>\n",
              "      <td>29</td>\n",
              "      <td>25</td>\n",
              "      <td>0.053655</td>\n",
              "    </tr>\n",
              "    <tr>\n",
              "      <th>867</th>\n",
              "      <td>29</td>\n",
              "      <td>26</td>\n",
              "      <td>0.041138</td>\n",
              "    </tr>\n",
              "    <tr>\n",
              "      <th>868</th>\n",
              "      <td>29</td>\n",
              "      <td>27</td>\n",
              "      <td>0.059279</td>\n",
              "    </tr>\n",
              "    <tr>\n",
              "      <th>869</th>\n",
              "      <td>29</td>\n",
              "      <td>28</td>\n",
              "      <td>0.046966</td>\n",
              "    </tr>\n",
              "  </tbody>\n",
              "</table>\n",
              "<p>870 rows × 3 columns</p>\n",
              "</div>"
            ],
            "text/plain": [
              "    top_id bottom_id  pair_score\n",
              "0        0         0    0.022888\n",
              "1        0         1    0.000591\n",
              "2        0         2    0.025932\n",
              "3        0         3    0.017773\n",
              "4        0         4    0.016789\n",
              "..     ...       ...         ...\n",
              "865     29        24    0.044797\n",
              "866     29        25    0.053655\n",
              "867     29        26    0.041138\n",
              "868     29        27    0.059279\n",
              "869     29        28    0.046966\n",
              "\n",
              "[870 rows x 3 columns]"
            ]
          },
          "metadata": {
            "tags": []
          },
          "execution_count": 37
        }
      ]
    },
    {
      "cell_type": "markdown",
      "metadata": {
        "id": "Sk2BFoNi0igl"
      },
      "source": [
        "###Table with full bottom_list + its categories"
      ]
    },
    {
      "cell_type": "code",
      "metadata": {
        "id": "h6ndcRyVH_WO"
      },
      "source": [
        "y = df_reg.loc[df_reg['cate1_name'] != 'upper-body', ('id','cate2_name','texture_name','sleeve_part_name','shape_name','neckline_part_name','fabric_name','style_name')]\n",
        "#dont use attribute columns that only have 1 value\n",
        "y['atts'] = y[['cate2_name','texture_name','sleeve_part_name','shape_name','neckline_part_name','fabric_name','style_name']].values.tolist()"
      ],
      "execution_count": null,
      "outputs": []
    },
    {
      "cell_type": "code",
      "metadata": {
        "id": "Zi5RPIatI2F9",
        "colab": {
          "base_uri": "https://localhost:8080/"
        },
        "outputId": "b4200a97-ad1c-46eb-ac2d-5113e7ca2058"
      },
      "source": [
        "# map raw category to number category\n",
        "bottom_tmp = pd.DataFrame(columns =['img_id','bottom_category'])\n",
        "data = []\n",
        "\n",
        "for id in tqdm(y.id.unique()):\n",
        "  a = y[(y.id == id)].atts.tolist()[0]\n",
        "  for i in range(0,len(a)):\n",
        "    for j in range(0,len(bottom.index)):\n",
        "      if a[i] == bottom['old'][j]:\n",
        "        b = bottom['new'][j]\n",
        "        data.append({'img_id':id,'bottom_category':b})\n",
        "bottom_tmp = bottom_tmp.append(data,ignore_index = True)\n"
      ],
      "execution_count": null,
      "outputs": [
        {
          "output_type": "stream",
          "text": [
            "100%|██████████| 11333/11333 [00:37<00:00, 302.54it/s]\n"
          ],
          "name": "stderr"
        }
      ]
    },
    {
      "cell_type": "code",
      "metadata": {
        "id": "F8diaxLvNzYi"
      },
      "source": [
        "#group by img_id\n",
        "bottom_img = pd.DataFrame(columns =['img_id','bottom_category'])\n",
        "data = []\n",
        "\n",
        "for img_id in tqdm(bottom_tmp.img_id.unique()):\n",
        "  bt = bottom_tmp[(bottom_tmp.img_id == img_id)].bottom_category.unique()\n",
        "  data.append({'img_id':img_id, 'bottom_category':bt})\n",
        "\n",
        "bottom_img = bottom_img.append(data,ignore_index = True)"
      ],
      "execution_count": null,
      "outputs": []
    },
    {
      "cell_type": "code",
      "metadata": {
        "id": "0Z-n1bHCQx_p"
      },
      "source": [
        "bottom_img"
      ],
      "execution_count": null,
      "outputs": []
    },
    {
      "cell_type": "code",
      "metadata": {
        "id": "tTF5Kt2EkiXh"
      },
      "source": [
        "df_pair_score.to_pickle(\"./Polyvore/cat_v2/vgg16/df_pair_score.pkl\")\n",
        "bottom_img.to_pickle(\"./Polyvore/cat_v2/vgg16/bottom_img.pkl\")"
      ],
      "execution_count": null,
      "outputs": []
    },
    {
      "cell_type": "markdown",
      "metadata": {
        "id": "lHEnh45l3ZYA"
      },
      "source": [
        "### Table with input top image's information"
      ]
    },
    {
      "cell_type": "code",
      "metadata": {
        "id": "vqnhY7UXS0Kv"
      },
      "source": [
        "top = pd.read_pickle(\"./Polyvore/cat_v2/vgg16/top_categories.pkl\")"
      ],
      "execution_count": null,
      "outputs": []
    },
    {
      "cell_type": "code",
      "metadata": {
        "id": "OIyFF05gRfOJ"
      },
      "source": [
        "x = df_reg.loc[df_reg['cate1_name'] == 'upper-body', ('id','cate2_name','texture_name','sleeve_part_name','shape_name','neckline_part_name','fabric_name','style_name')].head(30)\n",
        "#dont use attribute columns that only have 1 value\n",
        "# CHANGE TO ACTUAL INPUT TOP, \n",
        "x['atts'] = x[['cate2_name','texture_name','sleeve_part_name','shape_name','neckline_part_name','fabric_name','style_name']].values.tolist()"
      ],
      "execution_count": null,
      "outputs": []
    },
    {
      "cell_type": "code",
      "metadata": {
        "id": "vLUwGfp1Srsg",
        "colab": {
          "base_uri": "https://localhost:8080/"
        },
        "outputId": "96039bd9-dfd5-4c76-94ec-6eeb9f70a6f2"
      },
      "source": [
        "# map raw category to number category\n",
        "top_tmp = pd.DataFrame(columns =['img_id','top_category'])\n",
        "data = []\n",
        "\n",
        "for id in tqdm(x.id.unique()):\n",
        "  a = x[(x.id == id)].atts.tolist()[0]\n",
        "  for i in range(0,len(a)):\n",
        "    for j in range(0,len(top.index)):\n",
        "      if a[i] == top['old'][j]:\n",
        "        b = top['new'][j]\n",
        "        data.append({'img_id':id,'top_category':b})\n",
        "top_tmp = top_tmp.append(data,ignore_index = True)"
      ],
      "execution_count": null,
      "outputs": [
        {
          "output_type": "stream",
          "text": [
            "100%|██████████| 30/30 [00:00<00:00, 462.50it/s]\n"
          ],
          "name": "stderr"
        }
      ]
    },
    {
      "cell_type": "code",
      "metadata": {
        "id": "UmPWbLk9Ts98",
        "colab": {
          "base_uri": "https://localhost:8080/"
        },
        "outputId": "17e5c6ab-2fc0-4cc1-89f4-25316f097832"
      },
      "source": [
        "#group by img_id\n",
        "input_top_full = pd.DataFrame(columns =['img_id','top_category'])\n",
        "data = []\n",
        "\n",
        "for img_id in tqdm(top_tmp.img_id.unique()):\n",
        "  t = top_tmp[(top_tmp.img_id == img_id)].top_category.unique()\n",
        "  data.append({'img_id':img_id, 'top_category':t})\n",
        "\n",
        "input_top_full = input_top_full.append(data,ignore_index = True)"
      ],
      "execution_count": null,
      "outputs": [
        {
          "output_type": "stream",
          "text": [
            "100%|██████████| 30/30 [00:00<00:00, 1392.78it/s]\n"
          ],
          "name": "stderr"
        }
      ]
    },
    {
      "cell_type": "code",
      "metadata": {
        "id": "gskuKSbQzGee"
      },
      "source": [
        "input_top_full.to_pickle(\"./Polyvore/cat_v2/vgg16/top_img_30.pkl\")"
      ],
      "execution_count": null,
      "outputs": []
    },
    {
      "cell_type": "code",
      "metadata": {
        "colab": {
          "base_uri": "https://localhost:8080/",
          "height": 347
        },
        "id": "DFIvGSD43ZeS",
        "outputId": "6ac929c0-30d0-4bc8-a75a-957c4841e0f9"
      },
      "source": [
        "input_top_full"
      ],
      "execution_count": null,
      "outputs": [
        {
          "output_type": "execute_result",
          "data": {
            "text/html": [
              "<div>\n",
              "<style scoped>\n",
              "    .dataframe tbody tr th:only-of-type {\n",
              "        vertical-align: middle;\n",
              "    }\n",
              "\n",
              "    .dataframe tbody tr th {\n",
              "        vertical-align: top;\n",
              "    }\n",
              "\n",
              "    .dataframe thead th {\n",
              "        text-align: right;\n",
              "    }\n",
              "</style>\n",
              "<table border=\"1\" class=\"dataframe\">\n",
              "  <thead>\n",
              "    <tr style=\"text-align: right;\">\n",
              "      <th></th>\n",
              "      <th>img_id</th>\n",
              "      <th>top_category</th>\n",
              "    </tr>\n",
              "  </thead>\n",
              "  <tbody>\n",
              "    <tr>\n",
              "      <th>0</th>\n",
              "      <td>214181831/1.jpg</td>\n",
              "      <td>[0, 1, 2, 3, 4, 5, 6]</td>\n",
              "    </tr>\n",
              "    <tr>\n",
              "      <th>1</th>\n",
              "      <td>214181831/2.jpg</td>\n",
              "      <td>[0, 7, 2, 3, 4, 8, 6]</td>\n",
              "    </tr>\n",
              "    <tr>\n",
              "      <th>2</th>\n",
              "      <td>214181831/7.jpg</td>\n",
              "      <td>[0, 9, 2, 3, 4, 5, 6]</td>\n",
              "    </tr>\n",
              "    <tr>\n",
              "      <th>3</th>\n",
              "      <td>120161271/1.jpg</td>\n",
              "      <td>[0, 7, 10, 3, 4, 5, 6]</td>\n",
              "    </tr>\n",
              "    <tr>\n",
              "      <th>4</th>\n",
              "      <td>143656996/1.jpg</td>\n",
              "      <td>[0, 1, 11, 3, 12, 5, 6]</td>\n",
              "    </tr>\n",
              "    <tr>\n",
              "      <th>5</th>\n",
              "      <td>143656996/2.jpg</td>\n",
              "      <td>[0, 1, 2, 3, 4, 5, 6]</td>\n",
              "    </tr>\n",
              "    <tr>\n",
              "      <th>6</th>\n",
              "      <td>186627934/1.jpg</td>\n",
              "      <td>[0, 1, 2, 3, 4, 5, 6]</td>\n",
              "    </tr>\n",
              "    <tr>\n",
              "      <th>7</th>\n",
              "      <td>186627934/3.jpg</td>\n",
              "      <td>[0, 7, 11, 3, 4, 5, 6]</td>\n",
              "    </tr>\n",
              "    <tr>\n",
              "      <th>8</th>\n",
              "      <td>206969379/1.jpg</td>\n",
              "      <td>[0, 1, 11, 3, 12, 5, 6]</td>\n",
              "    </tr>\n",
              "    <tr>\n",
              "      <th>9</th>\n",
              "      <td>206969379/2.jpg</td>\n",
              "      <td>[0, 1, 11, 3, 12, 5, 6]</td>\n",
              "    </tr>\n",
              "  </tbody>\n",
              "</table>\n",
              "</div>"
            ],
            "text/plain": [
              "            img_id             top_category\n",
              "0  214181831/1.jpg    [0, 1, 2, 3, 4, 5, 6]\n",
              "1  214181831/2.jpg    [0, 7, 2, 3, 4, 8, 6]\n",
              "2  214181831/7.jpg    [0, 9, 2, 3, 4, 5, 6]\n",
              "3  120161271/1.jpg   [0, 7, 10, 3, 4, 5, 6]\n",
              "4  143656996/1.jpg  [0, 1, 11, 3, 12, 5, 6]\n",
              "5  143656996/2.jpg    [0, 1, 2, 3, 4, 5, 6]\n",
              "6  186627934/1.jpg    [0, 1, 2, 3, 4, 5, 6]\n",
              "7  186627934/3.jpg   [0, 7, 11, 3, 4, 5, 6]\n",
              "8  206969379/1.jpg  [0, 1, 11, 3, 12, 5, 6]\n",
              "9  206969379/2.jpg  [0, 1, 11, 3, 12, 5, 6]"
            ]
          },
          "metadata": {
            "tags": []
          },
          "execution_count": 45
        }
      ]
    },
    {
      "cell_type": "code",
      "metadata": {
        "id": "OJuU0W2YU7cp",
        "colab": {
          "base_uri": "https://localhost:8080/",
          "height": 347
        },
        "outputId": "ed9c4188-e193-4814-eb93-89b1b34afef4"
      },
      "source": [
        "#get 1 image to run the recommendation\n",
        "input_top = input_top_full#.iloc[[1,2,3,4,5,6,7,8,9,10]]\n",
        "input_top"
      ],
      "execution_count": null,
      "outputs": [
        {
          "output_type": "execute_result",
          "data": {
            "text/html": [
              "<div>\n",
              "<style scoped>\n",
              "    .dataframe tbody tr th:only-of-type {\n",
              "        vertical-align: middle;\n",
              "    }\n",
              "\n",
              "    .dataframe tbody tr th {\n",
              "        vertical-align: top;\n",
              "    }\n",
              "\n",
              "    .dataframe thead th {\n",
              "        text-align: right;\n",
              "    }\n",
              "</style>\n",
              "<table border=\"1\" class=\"dataframe\">\n",
              "  <thead>\n",
              "    <tr style=\"text-align: right;\">\n",
              "      <th></th>\n",
              "      <th>img_id</th>\n",
              "      <th>top_category</th>\n",
              "    </tr>\n",
              "  </thead>\n",
              "  <tbody>\n",
              "    <tr>\n",
              "      <th>0</th>\n",
              "      <td>214181831/1.jpg</td>\n",
              "      <td>[0, 1, 2, 3, 4, 5, 6]</td>\n",
              "    </tr>\n",
              "    <tr>\n",
              "      <th>1</th>\n",
              "      <td>214181831/2.jpg</td>\n",
              "      <td>[0, 7, 2, 3, 4, 8, 6]</td>\n",
              "    </tr>\n",
              "    <tr>\n",
              "      <th>2</th>\n",
              "      <td>214181831/7.jpg</td>\n",
              "      <td>[0, 9, 2, 3, 4, 5, 6]</td>\n",
              "    </tr>\n",
              "    <tr>\n",
              "      <th>3</th>\n",
              "      <td>120161271/1.jpg</td>\n",
              "      <td>[0, 7, 10, 3, 4, 5, 6]</td>\n",
              "    </tr>\n",
              "    <tr>\n",
              "      <th>4</th>\n",
              "      <td>143656996/1.jpg</td>\n",
              "      <td>[0, 1, 11, 3, 12, 5, 6]</td>\n",
              "    </tr>\n",
              "    <tr>\n",
              "      <th>5</th>\n",
              "      <td>143656996/2.jpg</td>\n",
              "      <td>[0, 1, 2, 3, 4, 5, 6]</td>\n",
              "    </tr>\n",
              "    <tr>\n",
              "      <th>6</th>\n",
              "      <td>186627934/1.jpg</td>\n",
              "      <td>[0, 1, 2, 3, 4, 5, 6]</td>\n",
              "    </tr>\n",
              "    <tr>\n",
              "      <th>7</th>\n",
              "      <td>186627934/3.jpg</td>\n",
              "      <td>[0, 7, 11, 3, 4, 5, 6]</td>\n",
              "    </tr>\n",
              "    <tr>\n",
              "      <th>8</th>\n",
              "      <td>206969379/1.jpg</td>\n",
              "      <td>[0, 1, 11, 3, 12, 5, 6]</td>\n",
              "    </tr>\n",
              "    <tr>\n",
              "      <th>9</th>\n",
              "      <td>206969379/2.jpg</td>\n",
              "      <td>[0, 1, 11, 3, 12, 5, 6]</td>\n",
              "    </tr>\n",
              "  </tbody>\n",
              "</table>\n",
              "</div>"
            ],
            "text/plain": [
              "            img_id             top_category\n",
              "0  214181831/1.jpg    [0, 1, 2, 3, 4, 5, 6]\n",
              "1  214181831/2.jpg    [0, 7, 2, 3, 4, 8, 6]\n",
              "2  214181831/7.jpg    [0, 9, 2, 3, 4, 5, 6]\n",
              "3  120161271/1.jpg   [0, 7, 10, 3, 4, 5, 6]\n",
              "4  143656996/1.jpg  [0, 1, 11, 3, 12, 5, 6]\n",
              "5  143656996/2.jpg    [0, 1, 2, 3, 4, 5, 6]\n",
              "6  186627934/1.jpg    [0, 1, 2, 3, 4, 5, 6]\n",
              "7  186627934/3.jpg   [0, 7, 11, 3, 4, 5, 6]\n",
              "8  206969379/1.jpg  [0, 1, 11, 3, 12, 5, 6]\n",
              "9  206969379/2.jpg  [0, 1, 11, 3, 12, 5, 6]"
            ]
          },
          "metadata": {
            "tags": []
          },
          "execution_count": 47
        }
      ]
    },
    {
      "cell_type": "code",
      "metadata": {
        "colab": {
          "base_uri": "https://localhost:8080/"
        },
        "id": "MFQj9vRLlFZp",
        "outputId": "eb1b9a50-f1fe-4f7d-adff-a9100d26a1a0"
      },
      "source": [
        "top_category = input_top.top_category[0]\n",
        "top_category"
      ],
      "execution_count": null,
      "outputs": [
        {
          "output_type": "execute_result",
          "data": {
            "text/plain": [
              "array([0, 1, 2, 3, 4, 5, 6], dtype=object)"
            ]
          },
          "metadata": {
            "tags": []
          },
          "execution_count": 51
        }
      ]
    },
    {
      "cell_type": "markdown",
      "metadata": {
        "id": "qnImtbLn1-ED"
      },
      "source": [
        "### Calculate bottom_img_score"
      ]
    },
    {
      "cell_type": "code",
      "metadata": {
        "id": "Ib0-O4y-3KkI"
      },
      "source": [
        "for a in range(0,len(input_top)):\n",
        "  top_category= input_top.top_category[a]\n",
        "  data =[]\n",
        "  output_bottom = pd.DataFrame(columns = ['img_id','img_score','input_top'])\n",
        "\n",
        "  for img_id in tqdm(bottom_img.img_id.unique()):\n",
        "    bottom_category = bottom_img[(bottom_img.img_id == img_id)].bottom_category.values[0]\n",
        "    score = 0\n",
        "    img_score = 0\n",
        "    #top_category = input_top.top_category[0]\n",
        "    for i in range(0,len(bottom_category)):\n",
        "      for j in range(0,len(top_category)):\n",
        "        x = df_pair_score[(df_pair_score.top_id == top_category[j])&(df_pair_score.bottom_id == bottom_category[i])].pair_score.values\n",
        "        score = score + x\n",
        "    data.append ({'img_id':img_id,'img_score':score,'input_top':top_category})\n",
        "\n",
        "  output_bottom = output_bottom.append(data,ignore_index=True )\n"
      ],
      "execution_count": null,
      "outputs": []
    },
    {
      "cell_type": "code",
      "metadata": {
        "id": "BnONspl98Gla"
      },
      "source": [
        "a = {'a':[1,2,3,4,5,6],'b':['a','b','c','a','a','a'],'c':['aa','bb','cc','aa','aa','aa']}"
      ],
      "execution_count": null,
      "outputs": []
    },
    {
      "cell_type": "code",
      "metadata": {
        "colab": {
          "base_uri": "https://localhost:8080/",
          "height": 227
        },
        "id": "fR8-sS-R8xvJ",
        "outputId": "9f79d7fc-f84a-4285-bc24-de38195d2d44"
      },
      "source": [
        "df = pd.DataFrame(data=a)\n",
        "df"
      ],
      "execution_count": null,
      "outputs": [
        {
          "output_type": "execute_result",
          "data": {
            "text/html": [
              "<div>\n",
              "<style scoped>\n",
              "    .dataframe tbody tr th:only-of-type {\n",
              "        vertical-align: middle;\n",
              "    }\n",
              "\n",
              "    .dataframe tbody tr th {\n",
              "        vertical-align: top;\n",
              "    }\n",
              "\n",
              "    .dataframe thead th {\n",
              "        text-align: right;\n",
              "    }\n",
              "</style>\n",
              "<table border=\"1\" class=\"dataframe\">\n",
              "  <thead>\n",
              "    <tr style=\"text-align: right;\">\n",
              "      <th></th>\n",
              "      <th>a</th>\n",
              "      <th>b</th>\n",
              "      <th>c</th>\n",
              "    </tr>\n",
              "  </thead>\n",
              "  <tbody>\n",
              "    <tr>\n",
              "      <th>0</th>\n",
              "      <td>1</td>\n",
              "      <td>a</td>\n",
              "      <td>aa</td>\n",
              "    </tr>\n",
              "    <tr>\n",
              "      <th>1</th>\n",
              "      <td>2</td>\n",
              "      <td>b</td>\n",
              "      <td>bb</td>\n",
              "    </tr>\n",
              "    <tr>\n",
              "      <th>2</th>\n",
              "      <td>3</td>\n",
              "      <td>c</td>\n",
              "      <td>cc</td>\n",
              "    </tr>\n",
              "    <tr>\n",
              "      <th>3</th>\n",
              "      <td>4</td>\n",
              "      <td>a</td>\n",
              "      <td>aa</td>\n",
              "    </tr>\n",
              "    <tr>\n",
              "      <th>4</th>\n",
              "      <td>5</td>\n",
              "      <td>a</td>\n",
              "      <td>aa</td>\n",
              "    </tr>\n",
              "    <tr>\n",
              "      <th>5</th>\n",
              "      <td>6</td>\n",
              "      <td>a</td>\n",
              "      <td>aa</td>\n",
              "    </tr>\n",
              "  </tbody>\n",
              "</table>\n",
              "</div>"
            ],
            "text/plain": [
              "   a  b   c\n",
              "0  1  a  aa\n",
              "1  2  b  bb\n",
              "2  3  c  cc\n",
              "3  4  a  aa\n",
              "4  5  a  aa\n",
              "5  6  a  aa"
            ]
          },
          "metadata": {
            "tags": []
          },
          "execution_count": 74
        }
      ]
    },
    {
      "cell_type": "code",
      "metadata": {
        "colab": {
          "base_uri": "https://localhost:8080/",
          "height": 137
        },
        "id": "fMJA76TP88Ah",
        "outputId": "ea1e8f4a-ed94-4a62-9beb-6a1eef0d620b"
      },
      "source": [
        "output_bottom.sort_values(['img_id','img_score','input_top'],ascending=False).groupby('img_score').head(1)"
      ],
      "execution_count": null,
      "outputs": [
        {
          "output_type": "execute_result",
          "data": {
            "text/html": [
              "<div>\n",
              "<style scoped>\n",
              "    .dataframe tbody tr th:only-of-type {\n",
              "        vertical-align: middle;\n",
              "    }\n",
              "\n",
              "    .dataframe tbody tr th {\n",
              "        vertical-align: top;\n",
              "    }\n",
              "\n",
              "    .dataframe thead th {\n",
              "        text-align: right;\n",
              "    }\n",
              "</style>\n",
              "<table border=\"1\" class=\"dataframe\">\n",
              "  <thead>\n",
              "    <tr style=\"text-align: right;\">\n",
              "      <th></th>\n",
              "      <th>a</th>\n",
              "      <th>b</th>\n",
              "      <th>c</th>\n",
              "    </tr>\n",
              "  </thead>\n",
              "  <tbody>\n",
              "    <tr>\n",
              "      <th>5</th>\n",
              "      <td>6</td>\n",
              "      <td>a</td>\n",
              "      <td>aa</td>\n",
              "    </tr>\n",
              "    <tr>\n",
              "      <th>2</th>\n",
              "      <td>3</td>\n",
              "      <td>c</td>\n",
              "      <td>cc</td>\n",
              "    </tr>\n",
              "    <tr>\n",
              "      <th>1</th>\n",
              "      <td>2</td>\n",
              "      <td>b</td>\n",
              "      <td>bb</td>\n",
              "    </tr>\n",
              "  </tbody>\n",
              "</table>\n",
              "</div>"
            ],
            "text/plain": [
              "   a  b   c\n",
              "5  6  a  aa\n",
              "2  3  c  cc\n",
              "1  2  b  bb"
            ]
          },
          "metadata": {
            "tags": []
          },
          "execution_count": 76
        }
      ]
    },
    {
      "cell_type": "code",
      "metadata": {
        "id": "UTd0oz5v7xzi"
      },
      "source": [
        "output_bottom.groupby(\"input_top\").sort_values(by='img_score')"
      ],
      "execution_count": null,
      "outputs": []
    },
    {
      "cell_type": "code",
      "metadata": {
        "colab": {
          "base_uri": "https://localhost:8080/"
        },
        "id": "MFxt1K3P5Gm1",
        "outputId": "cb4af0bd-56b2-4d5c-d30a-286332ad9551"
      },
      "source": [
        "top_category[0]"
      ],
      "execution_count": null,
      "outputs": [
        {
          "output_type": "execute_result",
          "data": {
            "text/plain": [
              "array([0, 1, 2, 3, 4, 5, 6], dtype=object)"
            ]
          },
          "metadata": {
            "tags": []
          },
          "execution_count": 54
        }
      ]
    },
    {
      "cell_type": "code",
      "metadata": {
        "id": "mBXlHdpN2sUn"
      },
      "source": [
        "#top_category = np.asarray(input_top.top_category.tolist(),dtype=object)\n",
        "top_category = input_top.top_category[0]\n",
        "data =[]\n",
        "output_bottom = pd.DataFrame(columns = ['img_id','img_score'])\n",
        "\n",
        "for img_id in tqdm(bottom_img.img_id.unique()):\n",
        "  bottom_category = bottom_img[(bottom_img.img_id == img_id)].bottom_category.values[0]\n",
        "  score = 0\n",
        "  img_score = 0\n",
        "  #top_category = input_top.top_category[0]\n",
        "  for i in range(0,len(bottom_category)):\n",
        "    for j in range(0,len(top_category)):\n",
        "      x = df_pair_score[(df_pair_score.top_id == top_category[j])&(df_pair_score.bottom_id == bottom_category[i])].pair_score.values\n",
        "      score = score + x\n",
        "  data.append ({'img_id':img_id,'img_score':score})\n",
        "\n",
        "output_bottom = output_bottom.append(data,ignore_index=True )\n",
        "\n",
        "\n"
      ],
      "execution_count": null,
      "outputs": []
    },
    {
      "cell_type": "code",
      "metadata": {
        "id": "dXkYqT0H4tk0"
      },
      "source": [
        "output_bottom"
      ],
      "execution_count": null,
      "outputs": []
    },
    {
      "cell_type": "code",
      "metadata": {
        "id": "vc6TRaHOA_ZB",
        "colab": {
          "base_uri": "https://localhost:8080/",
          "height": 359
        },
        "outputId": "3c0c449c-e95b-4757-e978-30d967272615"
      },
      "source": [
        "suggest = output_bottom.sort_values(by=['img_score'],ascending = False)\n",
        "suggest.head(10)"
      ],
      "execution_count": null,
      "outputs": [
        {
          "output_type": "execute_result",
          "data": {
            "text/html": [
              "<div>\n",
              "<style scoped>\n",
              "    .dataframe tbody tr th:only-of-type {\n",
              "        vertical-align: middle;\n",
              "    }\n",
              "\n",
              "    .dataframe tbody tr th {\n",
              "        vertical-align: top;\n",
              "    }\n",
              "\n",
              "    .dataframe thead th {\n",
              "        text-align: right;\n",
              "    }\n",
              "</style>\n",
              "<table border=\"1\" class=\"dataframe\">\n",
              "  <thead>\n",
              "    <tr style=\"text-align: right;\">\n",
              "      <th></th>\n",
              "      <th>img_id</th>\n",
              "      <th>img_score</th>\n",
              "    </tr>\n",
              "  </thead>\n",
              "  <tbody>\n",
              "    <tr>\n",
              "      <th>9640</th>\n",
              "      <td>151337160/1.jpg</td>\n",
              "      <td>[276.41446144506335]</td>\n",
              "    </tr>\n",
              "    <tr>\n",
              "      <th>10280</th>\n",
              "      <td>120736583/3.jpg</td>\n",
              "      <td>[276.41446144506335]</td>\n",
              "    </tr>\n",
              "    <tr>\n",
              "      <th>6114</th>\n",
              "      <td>150060917/1.jpg</td>\n",
              "      <td>[276.41446144506335]</td>\n",
              "    </tr>\n",
              "    <tr>\n",
              "      <th>10276</th>\n",
              "      <td>173808693/3.jpg</td>\n",
              "      <td>[276.41446144506335]</td>\n",
              "    </tr>\n",
              "    <tr>\n",
              "      <th>6109</th>\n",
              "      <td>210706200/1.jpg</td>\n",
              "      <td>[276.41446144506335]</td>\n",
              "    </tr>\n",
              "    <tr>\n",
              "      <th>6108</th>\n",
              "      <td>195070979/2.jpg</td>\n",
              "      <td>[276.41446144506335]</td>\n",
              "    </tr>\n",
              "    <tr>\n",
              "      <th>2458</th>\n",
              "      <td>213029175/3.jpg</td>\n",
              "      <td>[276.41446144506335]</td>\n",
              "    </tr>\n",
              "    <tr>\n",
              "      <th>6096</th>\n",
              "      <td>211911509/2.jpg</td>\n",
              "      <td>[276.41446144506335]</td>\n",
              "    </tr>\n",
              "    <tr>\n",
              "      <th>2460</th>\n",
              "      <td>187552785/3.jpg</td>\n",
              "      <td>[276.41446144506335]</td>\n",
              "    </tr>\n",
              "    <tr>\n",
              "      <th>6090</th>\n",
              "      <td>215833068/1.jpg</td>\n",
              "      <td>[276.41446144506335]</td>\n",
              "    </tr>\n",
              "  </tbody>\n",
              "</table>\n",
              "</div>"
            ],
            "text/plain": [
              "                img_id             img_score\n",
              "9640   151337160/1.jpg  [276.41446144506335]\n",
              "10280  120736583/3.jpg  [276.41446144506335]\n",
              "6114   150060917/1.jpg  [276.41446144506335]\n",
              "10276  173808693/3.jpg  [276.41446144506335]\n",
              "6109   210706200/1.jpg  [276.41446144506335]\n",
              "6108   195070979/2.jpg  [276.41446144506335]\n",
              "2458   213029175/3.jpg  [276.41446144506335]\n",
              "6096   211911509/2.jpg  [276.41446144506335]\n",
              "2460   187552785/3.jpg  [276.41446144506335]\n",
              "6090   215833068/1.jpg  [276.41446144506335]"
            ]
          },
          "metadata": {
            "tags": []
          },
          "execution_count": 351
        }
      ]
    },
    {
      "cell_type": "code",
      "metadata": {
        "id": "Hv-q81uWoDRn"
      },
      "source": [
        "import cv2\n",
        "from google.colab.patches import cv2_imshow"
      ],
      "execution_count": null,
      "outputs": []
    },
    {
      "cell_type": "code",
      "metadata": {
        "id": "lbe7rc0fpeKX",
        "colab": {
          "base_uri": "https://localhost:8080/",
          "height": 363
        },
        "outputId": "a4efe879-ae19-4b2c-a9b9-095f6fb397ae"
      },
      "source": [
        "import cv2\n",
        "img_path ='./Polyvore/images/images/143656996/1.jpg'\n",
        "image = cv2.imread(img_path)\n",
        "#crop_img = img[y:y+h, x:x+w]\n",
        "cv2_imshow(image)\n",
        "cv2.waitKey(0)\n",
        "\n",
        "#143656996/1"
      ],
      "execution_count": null,
      "outputs": [
        {
          "output_type": "error",
          "ename": "AttributeError",
          "evalue": "ignored",
          "traceback": [
            "\u001b[0;31m---------------------------------------------------------------------------\u001b[0m",
            "\u001b[0;31mAttributeError\u001b[0m                            Traceback (most recent call last)",
            "\u001b[0;32m<ipython-input-7-7d83106714dd>\u001b[0m in \u001b[0;36m<module>\u001b[0;34m()\u001b[0m\n\u001b[1;32m      3\u001b[0m \u001b[0mimage\u001b[0m \u001b[0;34m=\u001b[0m \u001b[0mcv2\u001b[0m\u001b[0;34m.\u001b[0m\u001b[0mimread\u001b[0m\u001b[0;34m(\u001b[0m\u001b[0mimg_path\u001b[0m\u001b[0;34m)\u001b[0m\u001b[0;34m\u001b[0m\u001b[0;34m\u001b[0m\u001b[0m\n\u001b[1;32m      4\u001b[0m \u001b[0;31m#crop_img = img[y:y+h, x:x+w]\u001b[0m\u001b[0;34m\u001b[0m\u001b[0;34m\u001b[0m\u001b[0;34m\u001b[0m\u001b[0m\n\u001b[0;32m----> 5\u001b[0;31m \u001b[0mcv2_imshow\u001b[0m\u001b[0;34m(\u001b[0m\u001b[0mimage\u001b[0m\u001b[0;34m)\u001b[0m\u001b[0;34m\u001b[0m\u001b[0;34m\u001b[0m\u001b[0m\n\u001b[0m\u001b[1;32m      6\u001b[0m \u001b[0mcv2\u001b[0m\u001b[0;34m.\u001b[0m\u001b[0mwaitKey\u001b[0m\u001b[0;34m(\u001b[0m\u001b[0;36m0\u001b[0m\u001b[0;34m)\u001b[0m\u001b[0;34m\u001b[0m\u001b[0;34m\u001b[0m\u001b[0m\n\u001b[1;32m      7\u001b[0m \u001b[0;34m\u001b[0m\u001b[0m\n",
            "\u001b[0;32m/usr/local/lib/python3.7/dist-packages/google/colab/patches/__init__.py\u001b[0m in \u001b[0;36mcv2_imshow\u001b[0;34m(a)\u001b[0m\n\u001b[1;32m     20\u001b[0m       \u001b[0mimage\u001b[0m\u001b[0;34m.\u001b[0m\u001b[0;34m\u001b[0m\u001b[0;34m\u001b[0m\u001b[0m\n\u001b[1;32m     21\u001b[0m   \"\"\"\n\u001b[0;32m---> 22\u001b[0;31m   \u001b[0ma\u001b[0m \u001b[0;34m=\u001b[0m \u001b[0ma\u001b[0m\u001b[0;34m.\u001b[0m\u001b[0mclip\u001b[0m\u001b[0;34m(\u001b[0m\u001b[0;36m0\u001b[0m\u001b[0;34m,\u001b[0m \u001b[0;36m255\u001b[0m\u001b[0;34m)\u001b[0m\u001b[0;34m.\u001b[0m\u001b[0mastype\u001b[0m\u001b[0;34m(\u001b[0m\u001b[0;34m'uint8'\u001b[0m\u001b[0;34m)\u001b[0m\u001b[0;34m\u001b[0m\u001b[0;34m\u001b[0m\u001b[0m\n\u001b[0m\u001b[1;32m     23\u001b[0m   \u001b[0;31m# cv2 stores colors as BGR; convert to RGB\u001b[0m\u001b[0;34m\u001b[0m\u001b[0;34m\u001b[0m\u001b[0;34m\u001b[0m\u001b[0m\n\u001b[1;32m     24\u001b[0m   \u001b[0;32mif\u001b[0m \u001b[0ma\u001b[0m\u001b[0;34m.\u001b[0m\u001b[0mndim\u001b[0m \u001b[0;34m==\u001b[0m \u001b[0;36m3\u001b[0m\u001b[0;34m:\u001b[0m\u001b[0;34m\u001b[0m\u001b[0;34m\u001b[0m\u001b[0m\n",
            "\u001b[0;31mAttributeError\u001b[0m: 'NoneType' object has no attribute 'clip'"
          ]
        }
      ]
    },
    {
      "cell_type": "code",
      "metadata": {
        "id": "Atkylb0q7kzN"
      },
      "source": [
        "list = pd.read_csv('./output_bottom_sorted.csv')"
      ],
      "execution_count": null,
      "outputs": []
    },
    {
      "cell_type": "code",
      "metadata": {
        "id": "HtOYMWicyjgl"
      },
      "source": [
        "a =pd.read_pickle('/content/drive/MyDrive/Practicum- ChauDao/Polyvore/cat_v2/vgg16/output_bottom_sorted.pkl')"
      ],
      "execution_count": null,
      "outputs": []
    },
    {
      "cell_type": "code",
      "metadata": {
        "id": "pE16vu3UzVLG"
      },
      "source": [
        "a = a.set_index('img_id')"
      ],
      "execution_count": null,
      "outputs": []
    },
    {
      "cell_type": "code",
      "metadata": {
        "id": "XcdPhmBQ8v_G"
      },
      "source": [
        "a.to_csv('/content/drive/MyDrive/Practicum- ChauDao/Polyvore/cat_v2/vgg16/output_bottom_sorted.csv')"
      ],
      "execution_count": null,
      "outputs": []
    },
    {
      "cell_type": "code",
      "metadata": {
        "id": "iLRz7kWXmQmH"
      },
      "source": [
        "output_bottom_sorted = pd.read_pickle(\"./Polyvore/cat_v2/vgg16/output_bottom_sorted.pkl\")"
      ],
      "execution_count": null,
      "outputs": []
    },
    {
      "cell_type": "code",
      "metadata": {
        "id": "4ymZwulHmTsz",
        "colab": {
          "base_uri": "https://localhost:8080/",
          "height": 359
        },
        "outputId": "78764010-3678-42a3-84ce-6e2ed2c56884"
      },
      "source": [
        "output_bottom_sorted"
      ],
      "execution_count": null,
      "outputs": [
        {
          "output_type": "execute_result",
          "data": {
            "text/html": [
              "<div>\n",
              "<style scoped>\n",
              "    .dataframe tbody tr th:only-of-type {\n",
              "        vertical-align: middle;\n",
              "    }\n",
              "\n",
              "    .dataframe tbody tr th {\n",
              "        vertical-align: top;\n",
              "    }\n",
              "\n",
              "    .dataframe thead th {\n",
              "        text-align: right;\n",
              "    }\n",
              "</style>\n",
              "<table border=\"1\" class=\"dataframe\">\n",
              "  <thead>\n",
              "    <tr style=\"text-align: right;\">\n",
              "      <th></th>\n",
              "      <th>img_id</th>\n",
              "      <th>img_score</th>\n",
              "      <th>input_top</th>\n",
              "      <th>img_score_num</th>\n",
              "    </tr>\n",
              "  </thead>\n",
              "  <tbody>\n",
              "    <tr>\n",
              "      <th>30987</th>\n",
              "      <td>216900310/1.jpg</td>\n",
              "      <td>[3.4903855475131422]</td>\n",
              "      <td>214181831/7.jpg</td>\n",
              "      <td>3.490386</td>\n",
              "    </tr>\n",
              "    <tr>\n",
              "      <th>18529</th>\n",
              "      <td>217030410/2.jpg</td>\n",
              "      <td>[7.304534606169909]</td>\n",
              "      <td>214181831/2.jpg</td>\n",
              "      <td>7.304535</td>\n",
              "    </tr>\n",
              "    <tr>\n",
              "      <th>9561</th>\n",
              "      <td>212540254/1.jpg</td>\n",
              "      <td>[0.1731702722609043]</td>\n",
              "      <td>214181831/1.jpg</td>\n",
              "      <td>0.173170</td>\n",
              "    </tr>\n",
              "    <tr>\n",
              "      <th>104491</th>\n",
              "      <td>217013995/8.jpg</td>\n",
              "      <td>[6.307556576561183]</td>\n",
              "      <td>206969379/2.jpg</td>\n",
              "      <td>6.307557</td>\n",
              "    </tr>\n",
              "    <tr>\n",
              "      <th>93158</th>\n",
              "      <td>217013995/8.jpg</td>\n",
              "      <td>[6.307556576561183]</td>\n",
              "      <td>206969379/1.jpg</td>\n",
              "      <td>6.307557</td>\n",
              "    </tr>\n",
              "    <tr>\n",
              "      <th>88371</th>\n",
              "      <td>217026804/3.jpg</td>\n",
              "      <td>[6.282377630006522]</td>\n",
              "      <td>186627934/3.jpg</td>\n",
              "      <td>6.282378</td>\n",
              "    </tr>\n",
              "    <tr>\n",
              "      <th>77559</th>\n",
              "      <td>212540254/1.jpg</td>\n",
              "      <td>[0.1731702722609043]</td>\n",
              "      <td>186627934/1.jpg</td>\n",
              "      <td>0.173170</td>\n",
              "    </tr>\n",
              "    <tr>\n",
              "      <th>66226</th>\n",
              "      <td>212540254/1.jpg</td>\n",
              "      <td>[0.1731702722609043]</td>\n",
              "      <td>143656996/2.jpg</td>\n",
              "      <td>0.173170</td>\n",
              "    </tr>\n",
              "    <tr>\n",
              "      <th>47826</th>\n",
              "      <td>217013995/8.jpg</td>\n",
              "      <td>[6.307556576561183]</td>\n",
              "      <td>143656996/1.jpg</td>\n",
              "      <td>6.307557</td>\n",
              "    </tr>\n",
              "    <tr>\n",
              "      <th>36493</th>\n",
              "      <td>217013995/8.jpg</td>\n",
              "      <td>[7.5537522728554904]</td>\n",
              "      <td>120161271/1.jpg</td>\n",
              "      <td>7.553752</td>\n",
              "    </tr>\n",
              "  </tbody>\n",
              "</table>\n",
              "</div>"
            ],
            "text/plain": [
              "                 img_id             img_score        input_top  img_score_num\n",
              "30987   216900310/1.jpg  [3.4903855475131422]  214181831/7.jpg       3.490386\n",
              "18529   217030410/2.jpg   [7.304534606169909]  214181831/2.jpg       7.304535\n",
              "9561    212540254/1.jpg  [0.1731702722609043]  214181831/1.jpg       0.173170\n",
              "104491  217013995/8.jpg   [6.307556576561183]  206969379/2.jpg       6.307557\n",
              "93158   217013995/8.jpg   [6.307556576561183]  206969379/1.jpg       6.307557\n",
              "88371   217026804/3.jpg   [6.282377630006522]  186627934/3.jpg       6.282378\n",
              "77559   212540254/1.jpg  [0.1731702722609043]  186627934/1.jpg       0.173170\n",
              "66226   212540254/1.jpg  [0.1731702722609043]  143656996/2.jpg       0.173170\n",
              "47826   217013995/8.jpg   [6.307556576561183]  143656996/1.jpg       6.307557\n",
              "36493   217013995/8.jpg  [7.5537522728554904]  120161271/1.jpg       7.553752"
            ]
          },
          "metadata": {
            "tags": []
          },
          "execution_count": 3
        }
      ]
    },
    {
      "cell_type": "code",
      "metadata": {
        "id": "o7iRkvhqQhPC"
      },
      "source": [
        "df_pair_score=pd.read_pickle(\"./Polyvore/cat_v2/vgg16/df_pair_score.pkl\")\n",
        "bottom_img= pd.read_pickle(\"./Polyvore/cat_v2/vgg16/bottom_img.pkl\")\n",
        "top_img= pd.read_pickle(\"./Polyvore/cat_v2/vgg16/top_img_30.pkl\")"
      ],
      "execution_count": null,
      "outputs": []
    },
    {
      "cell_type": "code",
      "metadata": {
        "id": "sCIzdP3dQjiq"
      },
      "source": [
        "df_pair_score.to_csv(\"./Polyvore/cat_v2/vgg16/df_pair_score.csv\")\n",
        "bottom_img.to_csv(\"./Polyvore/cat_v2/vgg16/bottom_img.csv\")\n",
        "top_img.to_csv(\"./Polyvore/cat_v2/vgg16/top_img_30.csv\")"
      ],
      "execution_count": null,
      "outputs": []
    },
    {
      "cell_type": "code",
      "metadata": {
        "id": "qdgGL8HqROHb",
        "colab": {
          "base_uri": "https://localhost:8080/",
          "height": 979
        },
        "outputId": "4811201d-d720-4823-ed31-2179f3920487"
      },
      "source": [
        "top_img"
      ],
      "execution_count": null,
      "outputs": [
        {
          "output_type": "execute_result",
          "data": {
            "text/html": [
              "<div>\n",
              "<style scoped>\n",
              "    .dataframe tbody tr th:only-of-type {\n",
              "        vertical-align: middle;\n",
              "    }\n",
              "\n",
              "    .dataframe tbody tr th {\n",
              "        vertical-align: top;\n",
              "    }\n",
              "\n",
              "    .dataframe thead th {\n",
              "        text-align: right;\n",
              "    }\n",
              "</style>\n",
              "<table border=\"1\" class=\"dataframe\">\n",
              "  <thead>\n",
              "    <tr style=\"text-align: right;\">\n",
              "      <th></th>\n",
              "      <th>img_id</th>\n",
              "      <th>top_category</th>\n",
              "    </tr>\n",
              "  </thead>\n",
              "  <tbody>\n",
              "    <tr>\n",
              "      <th>0</th>\n",
              "      <td>214181831/1.jpg</td>\n",
              "      <td>[0, 1, 2, 3, 4, 5, 6]</td>\n",
              "    </tr>\n",
              "    <tr>\n",
              "      <th>1</th>\n",
              "      <td>214181831/2.jpg</td>\n",
              "      <td>[0, 7, 2, 3, 4, 8, 6]</td>\n",
              "    </tr>\n",
              "    <tr>\n",
              "      <th>2</th>\n",
              "      <td>214181831/7.jpg</td>\n",
              "      <td>[0, 9, 2, 3, 4, 5, 6]</td>\n",
              "    </tr>\n",
              "    <tr>\n",
              "      <th>3</th>\n",
              "      <td>120161271/1.jpg</td>\n",
              "      <td>[0, 7, 10, 3, 4, 5, 6]</td>\n",
              "    </tr>\n",
              "    <tr>\n",
              "      <th>4</th>\n",
              "      <td>143656996/1.jpg</td>\n",
              "      <td>[0, 1, 11, 3, 12, 5, 6]</td>\n",
              "    </tr>\n",
              "    <tr>\n",
              "      <th>5</th>\n",
              "      <td>143656996/2.jpg</td>\n",
              "      <td>[0, 1, 2, 3, 4, 5, 6]</td>\n",
              "    </tr>\n",
              "    <tr>\n",
              "      <th>6</th>\n",
              "      <td>186627934/1.jpg</td>\n",
              "      <td>[0, 1, 2, 3, 4, 5, 6]</td>\n",
              "    </tr>\n",
              "    <tr>\n",
              "      <th>7</th>\n",
              "      <td>186627934/3.jpg</td>\n",
              "      <td>[0, 7, 11, 3, 4, 5, 6]</td>\n",
              "    </tr>\n",
              "    <tr>\n",
              "      <th>8</th>\n",
              "      <td>206969379/1.jpg</td>\n",
              "      <td>[0, 1, 11, 3, 12, 5, 6]</td>\n",
              "    </tr>\n",
              "    <tr>\n",
              "      <th>9</th>\n",
              "      <td>206969379/2.jpg</td>\n",
              "      <td>[0, 1, 11, 3, 12, 5, 6]</td>\n",
              "    </tr>\n",
              "    <tr>\n",
              "      <th>10</th>\n",
              "      <td>201969694/1.jpg</td>\n",
              "      <td>[0, 1, 2, 3, 13, 5, 6]</td>\n",
              "    </tr>\n",
              "    <tr>\n",
              "      <th>11</th>\n",
              "      <td>216470135/1.jpg</td>\n",
              "      <td>[0, 1, 2, 3, 4, 5, 6]</td>\n",
              "    </tr>\n",
              "    <tr>\n",
              "      <th>12</th>\n",
              "      <td>185225843/1.jpg</td>\n",
              "      <td>[0, 1, 11, 3, 4, 5, 6]</td>\n",
              "    </tr>\n",
              "    <tr>\n",
              "      <th>13</th>\n",
              "      <td>185225843/2.jpg</td>\n",
              "      <td>[0, 1, 2, 3, 4, 5, 6]</td>\n",
              "    </tr>\n",
              "    <tr>\n",
              "      <th>14</th>\n",
              "      <td>185225843/3.jpg</td>\n",
              "      <td>[0, 1, 2, 3, 4, 5, 6]</td>\n",
              "    </tr>\n",
              "    <tr>\n",
              "      <th>15</th>\n",
              "      <td>213824660/1.jpg</td>\n",
              "      <td>[0, 9, 11, 3, 12, 5, 6]</td>\n",
              "    </tr>\n",
              "    <tr>\n",
              "      <th>16</th>\n",
              "      <td>118117317/1.jpg</td>\n",
              "      <td>[0, 9, 11, 3, 4, 5, 6]</td>\n",
              "    </tr>\n",
              "    <tr>\n",
              "      <th>17</th>\n",
              "      <td>118117317/2.jpg</td>\n",
              "      <td>[0, 14, 2, 3, 4, 15, 6]</td>\n",
              "    </tr>\n",
              "    <tr>\n",
              "      <th>18</th>\n",
              "      <td>192203629/1.jpg</td>\n",
              "      <td>[0, 9, 2, 3, 13, 5, 6]</td>\n",
              "    </tr>\n",
              "    <tr>\n",
              "      <th>19</th>\n",
              "      <td>192203629/2.jpg</td>\n",
              "      <td>[0, 7, 2, 3, 4, 5, 6]</td>\n",
              "    </tr>\n",
              "    <tr>\n",
              "      <th>20</th>\n",
              "      <td>211763424/1.jpg</td>\n",
              "      <td>[0, 9, 2, 3, 4, 5, 6]</td>\n",
              "    </tr>\n",
              "    <tr>\n",
              "      <th>21</th>\n",
              "      <td>215293689/1.jpg</td>\n",
              "      <td>[0, 7, 2, 16, 4, 5, 6]</td>\n",
              "    </tr>\n",
              "    <tr>\n",
              "      <th>22</th>\n",
              "      <td>215293689/2.jpg</td>\n",
              "      <td>[0, 1, 2, 3, 13, 5, 6]</td>\n",
              "    </tr>\n",
              "    <tr>\n",
              "      <th>23</th>\n",
              "      <td>215293689/3.jpg</td>\n",
              "      <td>[0, 7, 11, 3, 4, 5, 6]</td>\n",
              "    </tr>\n",
              "    <tr>\n",
              "      <th>24</th>\n",
              "      <td>206960557/5.jpg</td>\n",
              "      <td>[0, 7, 2, 3, 4, 5, 6]</td>\n",
              "    </tr>\n",
              "    <tr>\n",
              "      <th>25</th>\n",
              "      <td>152669888/1.jpg</td>\n",
              "      <td>[0, 7, 10, 3, 4, 5, 6]</td>\n",
              "    </tr>\n",
              "    <tr>\n",
              "      <th>26</th>\n",
              "      <td>152669888/2.jpg</td>\n",
              "      <td>[0, 1, 2, 3, 13, 5, 6]</td>\n",
              "    </tr>\n",
              "    <tr>\n",
              "      <th>27</th>\n",
              "      <td>152669888/7.jpg</td>\n",
              "      <td>[0, 7, 2, 3, 4, 5, 6]</td>\n",
              "    </tr>\n",
              "    <tr>\n",
              "      <th>28</th>\n",
              "      <td>215196328/1.jpg</td>\n",
              "      <td>[0, 7, 2, 3, 4, 5, 6]</td>\n",
              "    </tr>\n",
              "    <tr>\n",
              "      <th>29</th>\n",
              "      <td>215196328/2.jpg</td>\n",
              "      <td>[0, 14, 2, 3, 4, 5, 6]</td>\n",
              "    </tr>\n",
              "  </tbody>\n",
              "</table>\n",
              "</div>"
            ],
            "text/plain": [
              "             img_id             top_category\n",
              "0   214181831/1.jpg    [0, 1, 2, 3, 4, 5, 6]\n",
              "1   214181831/2.jpg    [0, 7, 2, 3, 4, 8, 6]\n",
              "2   214181831/7.jpg    [0, 9, 2, 3, 4, 5, 6]\n",
              "3   120161271/1.jpg   [0, 7, 10, 3, 4, 5, 6]\n",
              "4   143656996/1.jpg  [0, 1, 11, 3, 12, 5, 6]\n",
              "5   143656996/2.jpg    [0, 1, 2, 3, 4, 5, 6]\n",
              "6   186627934/1.jpg    [0, 1, 2, 3, 4, 5, 6]\n",
              "7   186627934/3.jpg   [0, 7, 11, 3, 4, 5, 6]\n",
              "8   206969379/1.jpg  [0, 1, 11, 3, 12, 5, 6]\n",
              "9   206969379/2.jpg  [0, 1, 11, 3, 12, 5, 6]\n",
              "10  201969694/1.jpg   [0, 1, 2, 3, 13, 5, 6]\n",
              "11  216470135/1.jpg    [0, 1, 2, 3, 4, 5, 6]\n",
              "12  185225843/1.jpg   [0, 1, 11, 3, 4, 5, 6]\n",
              "13  185225843/2.jpg    [0, 1, 2, 3, 4, 5, 6]\n",
              "14  185225843/3.jpg    [0, 1, 2, 3, 4, 5, 6]\n",
              "15  213824660/1.jpg  [0, 9, 11, 3, 12, 5, 6]\n",
              "16  118117317/1.jpg   [0, 9, 11, 3, 4, 5, 6]\n",
              "17  118117317/2.jpg  [0, 14, 2, 3, 4, 15, 6]\n",
              "18  192203629/1.jpg   [0, 9, 2, 3, 13, 5, 6]\n",
              "19  192203629/2.jpg    [0, 7, 2, 3, 4, 5, 6]\n",
              "20  211763424/1.jpg    [0, 9, 2, 3, 4, 5, 6]\n",
              "21  215293689/1.jpg   [0, 7, 2, 16, 4, 5, 6]\n",
              "22  215293689/2.jpg   [0, 1, 2, 3, 13, 5, 6]\n",
              "23  215293689/3.jpg   [0, 7, 11, 3, 4, 5, 6]\n",
              "24  206960557/5.jpg    [0, 7, 2, 3, 4, 5, 6]\n",
              "25  152669888/1.jpg   [0, 7, 10, 3, 4, 5, 6]\n",
              "26  152669888/2.jpg   [0, 1, 2, 3, 13, 5, 6]\n",
              "27  152669888/7.jpg    [0, 7, 2, 3, 4, 5, 6]\n",
              "28  215196328/1.jpg    [0, 7, 2, 3, 4, 5, 6]\n",
              "29  215196328/2.jpg   [0, 14, 2, 3, 4, 5, 6]"
            ]
          },
          "metadata": {
            "tags": []
          },
          "execution_count": 39
        }
      ]
    }
  ]
}